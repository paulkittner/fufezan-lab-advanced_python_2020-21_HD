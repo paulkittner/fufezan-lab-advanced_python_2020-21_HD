{
 "cells": [
  {
   "cell_type": "code",
   "execution_count": null,
   "metadata": {
    "slideshow": {
     "slide_type": "slide"
    }
   },
   "outputs": [],
   "source": [
    "import course;course.header()"
   ]
  },
  {
   "cell_type": "markdown",
   "metadata": {
    "slideshow": {
     "slide_type": "slide"
    }
   },
   "source": [
    "# Pandas level 1\n",
    "Data wrangling 101"
   ]
  },
  {
   "cell_type": "markdown",
   "metadata": {
    "slideshow": {
     "slide_type": "-"
    }
   },
   "source": [
    "I'd like to say Pandas is numpy on steriods but it is actually much more.\n",
    "\n",
    "Pandas is the data science solution for Python and it build ontop of the powerful numpy module.\n",
    "However, Pandas offers elements that are much more intuitive or go beyond what numpy has ever provided.\n",
    "Nevertheless, numpy is more performant in some cases (by a lot, yet remember when to optimize!) \n",
    "\n",
    "The perfect is the dead of the good.\n",
    " -- M. Gunner\n",
    "\n",
    "Pandas was create [Wes McKinney](https://wesmckinney.com/pages/about.html) in the early 2008 at AQR capital management and I can recommend \"Python for Data Analysis\" from Wes, which was published via O'Reilly and \"Pandas for Everyone\" by Daniel Y. Chen. The following Pandas chapters are inspired by the books."
   ]
  },
  {
   "cell_type": "markdown",
   "metadata": {
    "slideshow": {
     "slide_type": "slide"
    }
   },
   "source": [
    "Pandas offers the two basic data structures\n",
    "* Series\n",
    "* Dataframes\n"
   ]
  },
  {
   "cell_type": "code",
   "execution_count": 1,
   "metadata": {},
   "outputs": [],
   "source": [
    "import pandas as pd\n",
    "import numpy as np"
   ]
  },
  {
   "cell_type": "code",
   "execution_count": 2,
   "metadata": {},
   "outputs": [
    {
     "data": {
      "text/plain": [
       "r1   -0.148649\n",
       "r2    0.900180\n",
       "r3    0.172987\n",
       "r4   -1.301128\n",
       "dtype: float64"
      ]
     },
     "execution_count": 2,
     "metadata": {},
     "output_type": "execute_result"
    }
   ],
   "source": [
    "c = pd.Series(\n",
    "    np.random.randn(4), \n",
    "    index=['r1', 'r2', 'r3', 'r4']\n",
    ")\n",
    "c"
   ]
  },
  {
   "cell_type": "markdown",
   "metadata": {},
   "source": [
    "Selecting from Series works like a dict :)"
   ]
  },
  {
   "cell_type": "code",
   "execution_count": 3,
   "metadata": {},
   "outputs": [
    {
     "data": {
      "text/plain": [
       "0.9001798551064172"
      ]
     },
     "execution_count": 3,
     "metadata": {},
     "output_type": "execute_result"
    }
   ],
   "source": [
    "c['r2']"
   ]
  },
  {
   "cell_type": "code",
   "execution_count": 4,
   "metadata": {},
   "outputs": [
    {
     "data": {
      "text/plain": [
       "r1    False\n",
       "r2     True\n",
       "r3     True\n",
       "r4    False\n",
       "dtype: bool"
      ]
     },
     "execution_count": 4,
     "metadata": {},
     "output_type": "execute_result"
    }
   ],
   "source": [
    "mask = c > 0\n",
    "mask"
   ]
  },
  {
   "cell_type": "code",
   "execution_count": 5,
   "metadata": {},
   "outputs": [
    {
     "data": {
      "text/plain": [
       "r2    0.900180\n",
       "r3    0.172987\n",
       "dtype: float64"
      ]
     },
     "execution_count": 5,
     "metadata": {},
     "output_type": "execute_result"
    }
   ],
   "source": [
    "c[mask]"
   ]
  },
  {
   "cell_type": "markdown",
   "metadata": {},
   "source": [
    "Masks can be additive!"
   ]
  },
  {
   "cell_type": "code",
   "execution_count": 6,
   "metadata": {},
   "outputs": [
    {
     "data": {
      "text/plain": [
       "r2    0.900180\n",
       "r3    0.172987\n",
       "dtype: float64"
      ]
     },
     "execution_count": 6,
     "metadata": {},
     "output_type": "execute_result"
    }
   ],
   "source": [
    "mask2 = c < 1\n",
    "c[mask & mask2]"
   ]
  },
  {
   "cell_type": "code",
   "execution_count": 7,
   "metadata": {},
   "outputs": [
    {
     "data": {
      "text/plain": [
       "r1    -1.486493\n",
       "r2     9.001799\n",
       "r3     1.729867\n",
       "r4   -13.011275\n",
       "dtype: float64"
      ]
     },
     "execution_count": 7,
     "metadata": {},
     "output_type": "execute_result"
    }
   ],
   "source": [
    "c * 10"
   ]
  },
  {
   "cell_type": "code",
   "execution_count": 8,
   "metadata": {},
   "outputs": [
    {
     "data": {
      "text/plain": [
       "r1    0.861871\n",
       "r2    2.460046\n",
       "r3    1.188850\n",
       "r4    0.272225\n",
       "dtype: float64"
      ]
     },
     "execution_count": 8,
     "metadata": {},
     "output_type": "execute_result"
    }
   ],
   "source": [
    "np.exp(c)"
   ]
  },
  {
   "cell_type": "markdown",
   "metadata": {},
   "source": [
    "Remember to use numpy functions as much as possible so data remains on the \"C side\". More below!"
   ]
  },
  {
   "cell_type": "markdown",
   "metadata": {},
   "source": [
    "Operations conserve index!\n",
    "\n",
    "Series are like ordered Dicts!"
   ]
  },
  {
   "cell_type": "code",
   "execution_count": 9,
   "metadata": {},
   "outputs": [
    {
     "data": {
      "text/plain": [
       "True"
      ]
     },
     "execution_count": 9,
     "metadata": {},
     "output_type": "execute_result"
    }
   ],
   "source": [
    "'r1' in c"
   ]
  },
  {
   "cell_type": "markdown",
   "metadata": {},
   "source": [
    "np.nan is the missing value indicator"
   ]
  },
  {
   "cell_type": "code",
   "execution_count": 10,
   "metadata": {},
   "outputs": [],
   "source": [
    "d = pd.Series({'r1': np.nan, 'r2': 0.2, 'r3': 0.2, 'r4': 0.4})"
   ]
  },
  {
   "cell_type": "code",
   "execution_count": 11,
   "metadata": {},
   "outputs": [
    {
     "data": {
      "text/plain": [
       "r1    NaN\n",
       "r2    0.2\n",
       "r3    0.2\n",
       "r4    0.4\n",
       "dtype: float64"
      ]
     },
     "execution_count": 11,
     "metadata": {},
     "output_type": "execute_result"
    }
   ],
   "source": [
    "d"
   ]
  },
  {
   "cell_type": "code",
   "execution_count": 12,
   "metadata": {},
   "outputs": [
    {
     "data": {
      "text/plain": [
       "r1     True\n",
       "r2    False\n",
       "r3    False\n",
       "r4    False\n",
       "dtype: bool"
      ]
     },
     "execution_count": 12,
     "metadata": {},
     "output_type": "execute_result"
    }
   ],
   "source": [
    "d.isna()"
   ]
  },
  {
   "cell_type": "code",
   "execution_count": 13,
   "metadata": {},
   "outputs": [
    {
     "data": {
      "text/plain": [
       "r1    False\n",
       "r2     True\n",
       "r3     True\n",
       "r4     True\n",
       "dtype: bool"
      ]
     },
     "execution_count": 13,
     "metadata": {},
     "output_type": "execute_result"
    }
   ],
   "source": [
    "# inverting with ~!\n",
    "~d.isna()"
   ]
  },
  {
   "cell_type": "code",
   "execution_count": 14,
   "metadata": {},
   "outputs": [
    {
     "data": {
      "text/plain": [
       "r1    False\n",
       "r2     True\n",
       "r3     True\n",
       "r4     True\n",
       "dtype: bool"
      ]
     },
     "execution_count": 14,
     "metadata": {},
     "output_type": "execute_result"
    }
   ],
   "source": [
    "d.notnull()"
   ]
  },
  {
   "cell_type": "markdown",
   "metadata": {},
   "source": [
    "## indices are aligned automatically!"
   ]
  },
  {
   "cell_type": "code",
   "execution_count": 15,
   "metadata": {},
   "outputs": [
    {
     "data": {
      "text/plain": [
       "r1   -0.514256\n",
       "r2    0.262654\n",
       "r3    0.680207\n",
       "r4   -1.009600\n",
       "dtype: float64"
      ]
     },
     "execution_count": 15,
     "metadata": {},
     "output_type": "execute_result"
    }
   ],
   "source": [
    "c"
   ]
  },
  {
   "cell_type": "code",
   "execution_count": 16,
   "metadata": {},
   "outputs": [
    {
     "data": {
      "text/plain": [
       "r2    0.009714\n",
       "r3    0.145131\n",
       "r4   -0.540788\n",
       "r5   -0.371142\n",
       "dtype: float64"
      ]
     },
     "execution_count": 16,
     "metadata": {},
     "output_type": "execute_result"
    }
   ],
   "source": [
    "d = pd.Series(\n",
    "    np.random.randn(4), \n",
    "    index=['r2', 'r3', 'r4', 'r5']\n",
    ")\n",
    "d"
   ]
  },
  {
   "cell_type": "code",
   "execution_count": 17,
   "metadata": {},
   "outputs": [
    {
     "data": {
      "text/plain": [
       "r1         NaN\n",
       "r2    0.272369\n",
       "r3    0.825337\n",
       "r4   -1.550388\n",
       "r5         NaN\n",
       "dtype: float64"
      ]
     },
     "execution_count": 17,
     "metadata": {},
     "output_type": "execute_result"
    }
   ],
   "source": [
    "c + d"
   ]
  },
  {
   "cell_type": "markdown",
   "metadata": {},
   "source": [
    "## Renaming index"
   ]
  },
  {
   "cell_type": "code",
   "execution_count": 18,
   "metadata": {},
   "outputs": [],
   "source": [
    "d.index = ['r1', 'r2', 'r3', 'r4']"
   ]
  },
  {
   "cell_type": "code",
   "execution_count": 19,
   "metadata": {},
   "outputs": [
    {
     "data": {
      "text/plain": [
       "r1   -0.504542\n",
       "r2    0.407785\n",
       "r3    0.139419\n",
       "r4   -1.380742\n",
       "dtype: float64"
      ]
     },
     "execution_count": 19,
     "metadata": {},
     "output_type": "execute_result"
    }
   ],
   "source": [
    "c + d"
   ]
  },
  {
   "cell_type": "markdown",
   "metadata": {},
   "source": [
    "Naming things will help you to get your data organised better. Explicit is better than implicit! And remember to choose your names variable wisely - you will code read often than you write.  "
   ]
  },
  {
   "cell_type": "code",
   "execution_count": 30,
   "metadata": {},
   "outputs": [
    {
     "data": {
      "text/plain": [
       "variable\n",
       "r1    NaN\n",
       "r2    0.2\n",
       "r3    0.2\n",
       "r4    0.4\n",
       "Name: probability, dtype: float64"
      ]
     },
     "execution_count": 30,
     "metadata": {},
     "output_type": "execute_result"
    }
   ],
   "source": [
    "d.index.name = \"variable\"\n",
    "d.name = \"probability\"\n",
    "d"
   ]
  },
  {
   "cell_type": "code",
   "execution_count": 21,
   "metadata": {},
   "outputs": [
    {
     "data": {
      "text/html": [
       "<div>\n",
       "<style scoped>\n",
       "    .dataframe tbody tr th:only-of-type {\n",
       "        vertical-align: middle;\n",
       "    }\n",
       "\n",
       "    .dataframe tbody tr th {\n",
       "        vertical-align: top;\n",
       "    }\n",
       "\n",
       "    .dataframe thead th {\n",
       "        text-align: right;\n",
       "    }\n",
       "</style>\n",
       "<table border=\"1\" class=\"dataframe\">\n",
       "  <thead>\n",
       "    <tr style=\"text-align: right;\">\n",
       "      <th></th>\n",
       "      <th>variable</th>\n",
       "      <th>probability</th>\n",
       "    </tr>\n",
       "  </thead>\n",
       "  <tbody>\n",
       "    <tr>\n",
       "      <th>0</th>\n",
       "      <td>r1</td>\n",
       "      <td>0.009714</td>\n",
       "    </tr>\n",
       "    <tr>\n",
       "      <th>1</th>\n",
       "      <td>r2</td>\n",
       "      <td>0.145131</td>\n",
       "    </tr>\n",
       "    <tr>\n",
       "      <th>2</th>\n",
       "      <td>r3</td>\n",
       "      <td>-0.540788</td>\n",
       "    </tr>\n",
       "    <tr>\n",
       "      <th>3</th>\n",
       "      <td>r4</td>\n",
       "      <td>-0.371142</td>\n",
       "    </tr>\n",
       "  </tbody>\n",
       "</table>\n",
       "</div>"
      ],
      "text/plain": [
       "  variable  probability\n",
       "0       r1     0.009714\n",
       "1       r2     0.145131\n",
       "2       r3    -0.540788\n",
       "3       r4    -0.371142"
      ]
     },
     "execution_count": 21,
     "metadata": {},
     "output_type": "execute_result"
    }
   ],
   "source": [
    "d.reset_index()"
   ]
  },
  {
   "cell_type": "markdown",
   "metadata": {},
   "source": [
    "Turns it into a DataFrame as the index is now a series!"
   ]
  },
  {
   "cell_type": "code",
   "execution_count": 22,
   "metadata": {},
   "outputs": [
    {
     "data": {
      "text/plain": [
       "pandas.core.frame.DataFrame"
      ]
     },
     "execution_count": 22,
     "metadata": {},
     "output_type": "execute_result"
    }
   ],
   "source": [
    "type(d.reset_index())"
   ]
  },
  {
   "cell_type": "markdown",
   "metadata": {
    "slideshow": {
     "slide_type": "slide"
    }
   },
   "source": [
    "# Data frames \n",
    "Data frames are the pandas 2d data containers (if there is only one index dimension). \n",
    "In principle data frames are a list of Series, whereas each row is a series. "
   ]
  },
  {
   "cell_type": "code",
   "execution_count": 31,
   "metadata": {
    "scrolled": false
   },
   "outputs": [
    {
     "data": {
      "text/html": [
       "<div>\n",
       "<style scoped>\n",
       "    .dataframe tbody tr th:only-of-type {\n",
       "        vertical-align: middle;\n",
       "    }\n",
       "\n",
       "    .dataframe tbody tr th {\n",
       "        vertical-align: top;\n",
       "    }\n",
       "\n",
       "    .dataframe thead th {\n",
       "        text-align: right;\n",
       "    }\n",
       "</style>\n",
       "<table border=\"1\" class=\"dataframe\">\n",
       "  <thead>\n",
       "    <tr style=\"text-align: right;\">\n",
       "      <th></th>\n",
       "      <th>r1</th>\n",
       "      <th>r2</th>\n",
       "      <th>r3</th>\n",
       "      <th>r4</th>\n",
       "      <th>r5</th>\n",
       "    </tr>\n",
       "  </thead>\n",
       "  <tbody>\n",
       "    <tr>\n",
       "      <th>Unnamed 0</th>\n",
       "      <td>-0.148649</td>\n",
       "      <td>0.900180</td>\n",
       "      <td>0.172987</td>\n",
       "      <td>-1.301128</td>\n",
       "      <td>NaN</td>\n",
       "    </tr>\n",
       "    <tr>\n",
       "      <th>probability</th>\n",
       "      <td>NaN</td>\n",
       "      <td>0.200000</td>\n",
       "      <td>0.200000</td>\n",
       "      <td>0.400000</td>\n",
       "      <td>NaN</td>\n",
       "    </tr>\n",
       "    <tr>\n",
       "      <th>Unnamed 1</th>\n",
       "      <td>NaN</td>\n",
       "      <td>-1.197684</td>\n",
       "      <td>1.587771</td>\n",
       "      <td>0.007975</td>\n",
       "      <td>1.163085</td>\n",
       "    </tr>\n",
       "  </tbody>\n",
       "</table>\n",
       "</div>"
      ],
      "text/plain": [
       "                   r1        r2        r3        r4        r5\n",
       "Unnamed 0   -0.148649  0.900180  0.172987 -1.301128       NaN\n",
       "probability       NaN  0.200000  0.200000  0.400000       NaN\n",
       "Unnamed 1         NaN -1.197684  1.587771  0.007975  1.163085"
      ]
     },
     "execution_count": 31,
     "metadata": {},
     "output_type": "execute_result"
    }
   ],
   "source": [
    "df = pd.DataFrame(\n",
    "    [\n",
    "        c, \n",
    "        d, # this one we named :)\n",
    "        pd.Series(np.random.randn(4), index=['r2', 'r3', 'r4', 'r5'])\n",
    "    ]\n",
    ")\n",
    "df"
   ]
  },
  {
   "cell_type": "code",
   "execution_count": 92,
   "metadata": {},
   "outputs": [],
   "source": [
    "df_ = {\"hello\": [0, 2, 3], \"bye\": [2,3,5]}"
   ]
  },
  {
   "cell_type": "code",
   "execution_count": 93,
   "metadata": {
    "scrolled": false
   },
   "outputs": [
    {
     "ename": "AttributeError",
     "evalue": "'dict' object has no attribute 'drop'",
     "output_type": "error",
     "traceback": [
      "\u001b[0;31m---------------------------------------------------------------------------\u001b[0m",
      "\u001b[0;31mAttributeError\u001b[0m                            Traceback (most recent call last)",
      "\u001b[0;32m<ipython-input-93-be2324c231fe>\u001b[0m in \u001b[0;36m<module>\u001b[0;34m\u001b[0m\n\u001b[0;32m----> 1\u001b[0;31m \u001b[0mdf_\u001b[0m\u001b[0;34m.\u001b[0m\u001b[0mdrop\u001b[0m\u001b[0;34m(\u001b[0m\u001b[0;36m0\u001b[0m\u001b[0;34m)\u001b[0m\u001b[0;34m\u001b[0m\u001b[0;34m\u001b[0m\u001b[0m\n\u001b[0m",
      "\u001b[0;31mAttributeError\u001b[0m: 'dict' object has no attribute 'drop'"
     ]
    }
   ],
   "source": [
    "df_.drop(0)"
   ]
  },
  {
   "cell_type": "code",
   "execution_count": 94,
   "metadata": {
    "scrolled": true
   },
   "outputs": [
    {
     "data": {
      "text/plain": [
       "{'hello': [0, 2, 3], 'bye': [2, 3, 5]}"
      ]
     },
     "execution_count": 94,
     "metadata": {},
     "output_type": "execute_result"
    }
   ],
   "source": [
    "df_"
   ]
  },
  {
   "cell_type": "code",
   "execution_count": 97,
   "metadata": {},
   "outputs": [],
   "source": [
    "df_del = df_.drop(0)"
   ]
  },
  {
   "cell_type": "code",
   "execution_count": 98,
   "metadata": {
    "scrolled": false
   },
   "outputs": [
    {
     "data": {
      "text/html": [
       "<div>\n",
       "<style scoped>\n",
       "    .dataframe tbody tr th:only-of-type {\n",
       "        vertical-align: middle;\n",
       "    }\n",
       "\n",
       "    .dataframe tbody tr th {\n",
       "        vertical-align: top;\n",
       "    }\n",
       "\n",
       "    .dataframe thead th {\n",
       "        text-align: right;\n",
       "    }\n",
       "</style>\n",
       "<table border=\"1\" class=\"dataframe\">\n",
       "  <thead>\n",
       "    <tr style=\"text-align: right;\">\n",
       "      <th></th>\n",
       "      <th>hello</th>\n",
       "      <th>bye</th>\n",
       "    </tr>\n",
       "  </thead>\n",
       "  <tbody>\n",
       "    <tr>\n",
       "      <th>0</th>\n",
       "      <td>0</td>\n",
       "      <td>2</td>\n",
       "    </tr>\n",
       "    <tr>\n",
       "      <th>1</th>\n",
       "      <td>2</td>\n",
       "      <td>3</td>\n",
       "    </tr>\n",
       "    <tr>\n",
       "      <th>2</th>\n",
       "      <td>3</td>\n",
       "      <td>5</td>\n",
       "    </tr>\n",
       "  </tbody>\n",
       "</table>\n",
       "</div>"
      ],
      "text/plain": [
       "   hello  bye\n",
       "0      0    2\n",
       "1      2    3\n",
       "2      3    5"
      ]
     },
     "execution_count": 98,
     "metadata": {},
     "output_type": "execute_result"
    }
   ],
   "source": [
    "df_"
   ]
  },
  {
   "cell_type": "code",
   "execution_count": 99,
   "metadata": {},
   "outputs": [
    {
     "data": {
      "text/html": [
       "<div>\n",
       "<style scoped>\n",
       "    .dataframe tbody tr th:only-of-type {\n",
       "        vertical-align: middle;\n",
       "    }\n",
       "\n",
       "    .dataframe tbody tr th {\n",
       "        vertical-align: top;\n",
       "    }\n",
       "\n",
       "    .dataframe thead th {\n",
       "        text-align: right;\n",
       "    }\n",
       "</style>\n",
       "<table border=\"1\" class=\"dataframe\">\n",
       "  <thead>\n",
       "    <tr style=\"text-align: right;\">\n",
       "      <th></th>\n",
       "      <th>hello</th>\n",
       "      <th>bye</th>\n",
       "    </tr>\n",
       "  </thead>\n",
       "  <tbody>\n",
       "    <tr>\n",
       "      <th>1</th>\n",
       "      <td>2</td>\n",
       "      <td>3</td>\n",
       "    </tr>\n",
       "    <tr>\n",
       "      <th>2</th>\n",
       "      <td>3</td>\n",
       "      <td>5</td>\n",
       "    </tr>\n",
       "  </tbody>\n",
       "</table>\n",
       "</div>"
      ],
      "text/plain": [
       "   hello  bye\n",
       "1      2    3\n",
       "2      3    5"
      ]
     },
     "execution_count": 99,
     "metadata": {},
     "output_type": "execute_result"
    }
   ],
   "source": [
    "df_del"
   ]
  },
  {
   "cell_type": "code",
   "execution_count": 80,
   "metadata": {},
   "outputs": [
    {
     "name": "stdout",
     "output_type": "stream",
     "text": [
      "Help on function drop in module pandas.core.frame:\n",
      "\n",
      "drop(self, labels=None, axis=0, index=None, columns=None, level=None, inplace=False, errors='raise')\n",
      "    Drop specified labels from rows or columns.\n",
      "    \n",
      "    Remove rows or columns by specifying label names and corresponding\n",
      "    axis, or by specifying directly index or column names. When using a\n",
      "    multi-index, labels on different levels can be removed by specifying\n",
      "    the level.\n",
      "    \n",
      "    Parameters\n",
      "    ----------\n",
      "    labels : single label or list-like\n",
      "        Index or column labels to drop.\n",
      "    axis : {0 or 'index', 1 or 'columns'}, default 0\n",
      "        Whether to drop labels from the index (0 or 'index') or\n",
      "        columns (1 or 'columns').\n",
      "    index : single label or list-like\n",
      "        Alternative to specifying axis (``labels, axis=0``\n",
      "        is equivalent to ``index=labels``).\n",
      "    columns : single label or list-like\n",
      "        Alternative to specifying axis (``labels, axis=1``\n",
      "        is equivalent to ``columns=labels``).\n",
      "    level : int or level name, optional\n",
      "        For MultiIndex, level from which the labels will be removed.\n",
      "    inplace : bool, default False\n",
      "        If False, return a copy. Otherwise, do operation\n",
      "        inplace and return None.\n",
      "    errors : {'ignore', 'raise'}, default 'raise'\n",
      "        If 'ignore', suppress error and only existing labels are\n",
      "        dropped.\n",
      "    \n",
      "    Returns\n",
      "    -------\n",
      "    DataFrame or None\n",
      "        DataFrame without the removed index or column labels or\n",
      "        None if ``inplace=True``.\n",
      "    \n",
      "    Raises\n",
      "    ------\n",
      "    KeyError\n",
      "        If any of the labels is not found in the selected axis.\n",
      "    \n",
      "    See Also\n",
      "    --------\n",
      "    DataFrame.loc : Label-location based indexer for selection by label.\n",
      "    DataFrame.dropna : Return DataFrame with labels on given axis omitted\n",
      "        where (all or any) data are missing.\n",
      "    DataFrame.drop_duplicates : Return DataFrame with duplicate rows\n",
      "        removed, optionally only considering certain columns.\n",
      "    Series.drop : Return Series with specified index labels removed.\n",
      "    \n",
      "    Examples\n",
      "    --------\n",
      "    >>> df = pd.DataFrame(np.arange(12).reshape(3, 4),\n",
      "    ...                   columns=['A', 'B', 'C', 'D'])\n",
      "    >>> df\n",
      "       A  B   C   D\n",
      "    0  0  1   2   3\n",
      "    1  4  5   6   7\n",
      "    2  8  9  10  11\n",
      "    \n",
      "    Drop columns\n",
      "    \n",
      "    >>> df.drop(['B', 'C'], axis=1)\n",
      "       A   D\n",
      "    0  0   3\n",
      "    1  4   7\n",
      "    2  8  11\n",
      "    \n",
      "    >>> df.drop(columns=['B', 'C'])\n",
      "       A   D\n",
      "    0  0   3\n",
      "    1  4   7\n",
      "    2  8  11\n",
      "    \n",
      "    Drop a row by index\n",
      "    \n",
      "    >>> df.drop([0, 1])\n",
      "       A  B   C   D\n",
      "    2  8  9  10  11\n",
      "    \n",
      "    Drop columns and/or rows of MultiIndex DataFrame\n",
      "    \n",
      "    >>> midx = pd.MultiIndex(levels=[['lama', 'cow', 'falcon'],\n",
      "    ...                              ['speed', 'weight', 'length']],\n",
      "    ...                      codes=[[0, 0, 0, 1, 1, 1, 2, 2, 2],\n",
      "    ...                             [0, 1, 2, 0, 1, 2, 0, 1, 2]])\n",
      "    >>> df = pd.DataFrame(index=midx, columns=['big', 'small'],\n",
      "    ...                   data=[[45, 30], [200, 100], [1.5, 1], [30, 20],\n",
      "    ...                         [250, 150], [1.5, 0.8], [320, 250],\n",
      "    ...                         [1, 0.8], [0.3, 0.2]])\n",
      "    >>> df\n",
      "                    big     small\n",
      "    lama    speed   45.0    30.0\n",
      "            weight  200.0   100.0\n",
      "            length  1.5     1.0\n",
      "    cow     speed   30.0    20.0\n",
      "            weight  250.0   150.0\n",
      "            length  1.5     0.8\n",
      "    falcon  speed   320.0   250.0\n",
      "            weight  1.0     0.8\n",
      "            length  0.3     0.2\n",
      "    \n",
      "    >>> df.drop(index='cow', columns='small')\n",
      "                    big\n",
      "    lama    speed   45.0\n",
      "            weight  200.0\n",
      "            length  1.5\n",
      "    falcon  speed   320.0\n",
      "            weight  1.0\n",
      "            length  0.3\n",
      "    \n",
      "    >>> df.drop(index='length', level=1)\n",
      "                    big     small\n",
      "    lama    speed   45.0    30.0\n",
      "            weight  200.0   100.0\n",
      "    cow     speed   30.0    20.0\n",
      "            weight  250.0   150.0\n",
      "    falcon  speed   320.0   250.0\n",
      "            weight  1.0     0.8\n",
      "\n"
     ]
    }
   ],
   "source": [
    "help(pd.DataFrame.drop)"
   ]
  },
  {
   "cell_type": "code",
   "execution_count": 95,
   "metadata": {},
   "outputs": [],
   "source": [
    "df_ = pd.DataFrame(data=df_)"
   ]
  },
  {
   "cell_type": "code",
   "execution_count": 59,
   "metadata": {},
   "outputs": [
    {
     "data": {
      "text/html": [
       "<div>\n",
       "<style scoped>\n",
       "    .dataframe tbody tr th:only-of-type {\n",
       "        vertical-align: middle;\n",
       "    }\n",
       "\n",
       "    .dataframe tbody tr th {\n",
       "        vertical-align: top;\n",
       "    }\n",
       "\n",
       "    .dataframe thead th {\n",
       "        text-align: right;\n",
       "    }\n",
       "</style>\n",
       "<table border=\"1\" class=\"dataframe\">\n",
       "  <thead>\n",
       "    <tr style=\"text-align: right;\">\n",
       "      <th></th>\n",
       "      <th>hello</th>\n",
       "      <th>bye</th>\n",
       "    </tr>\n",
       "  </thead>\n",
       "  <tbody>\n",
       "    <tr>\n",
       "      <th>0</th>\n",
       "      <td>1</td>\n",
       "      <td>2</td>\n",
       "    </tr>\n",
       "    <tr>\n",
       "      <th>2</th>\n",
       "      <td>3</td>\n",
       "      <td>5</td>\n",
       "    </tr>\n",
       "  </tbody>\n",
       "</table>\n",
       "</div>"
      ],
      "text/plain": [
       "   hello  bye\n",
       "0      1    2\n",
       "2      3    5"
      ]
     },
     "execution_count": 59,
     "metadata": {},
     "output_type": "execute_result"
    }
   ],
   "source": [
    "df_.drop(1)"
   ]
  },
  {
   "cell_type": "code",
   "execution_count": 58,
   "metadata": {},
   "outputs": [
    {
     "name": "stdout",
     "output_type": "stream",
     "text": [
      "\n",
      "This value exists in Dataframe\n"
     ]
    }
   ],
   "source": [
    "if 1 in df_.values : \n",
    "    print() \n"
   ]
  },
  {
   "cell_type": "code",
   "execution_count": 24,
   "metadata": {},
   "outputs": [
    {
     "data": {
      "text/plain": [
       "0.14513092350237325"
      ]
     },
     "execution_count": 24,
     "metadata": {},
     "output_type": "execute_result"
    }
   ],
   "source": [
    "# accessing a value\n",
    "df.loc['probability', 'r2']"
   ]
  },
  {
   "cell_type": "markdown",
   "metadata": {},
   "source": [
    "Note: How pandas aligns your data automatically.\n",
    "\n",
    "If you want each series to be treated as column, just transpose"
   ]
  },
  {
   "cell_type": "markdown",
   "metadata": {},
   "source": [
    "DataFrames can be constructed in many different ways, see docu for more details\n",
    "https://pandas.pydata.org/pandas-docs/stable/reference/api/pandas.DataFrame.html?highlight=dataframe#pandas.DataFrame"
   ]
  },
  {
   "cell_type": "code",
   "execution_count": 25,
   "metadata": {},
   "outputs": [
    {
     "data": {
      "text/html": [
       "<div>\n",
       "<style scoped>\n",
       "    .dataframe tbody tr th:only-of-type {\n",
       "        vertical-align: middle;\n",
       "    }\n",
       "\n",
       "    .dataframe tbody tr th {\n",
       "        vertical-align: top;\n",
       "    }\n",
       "\n",
       "    .dataframe thead th {\n",
       "        text-align: right;\n",
       "    }\n",
       "</style>\n",
       "<table border=\"1\" class=\"dataframe\">\n",
       "  <thead>\n",
       "    <tr style=\"text-align: right;\">\n",
       "      <th></th>\n",
       "      <th>Unnamed 0</th>\n",
       "      <th>probability</th>\n",
       "      <th>Unnamed 1</th>\n",
       "    </tr>\n",
       "  </thead>\n",
       "  <tbody>\n",
       "    <tr>\n",
       "      <th>r1</th>\n",
       "      <td>-0.514256</td>\n",
       "      <td>0.009714</td>\n",
       "      <td>NaN</td>\n",
       "    </tr>\n",
       "    <tr>\n",
       "      <th>r2</th>\n",
       "      <td>0.262654</td>\n",
       "      <td>0.145131</td>\n",
       "      <td>-1.829309</td>\n",
       "    </tr>\n",
       "    <tr>\n",
       "      <th>r3</th>\n",
       "      <td>0.680207</td>\n",
       "      <td>-0.540788</td>\n",
       "      <td>2.694192</td>\n",
       "    </tr>\n",
       "    <tr>\n",
       "      <th>r4</th>\n",
       "      <td>-1.009600</td>\n",
       "      <td>-0.371142</td>\n",
       "      <td>0.759455</td>\n",
       "    </tr>\n",
       "    <tr>\n",
       "      <th>r5</th>\n",
       "      <td>NaN</td>\n",
       "      <td>NaN</td>\n",
       "      <td>-0.212082</td>\n",
       "    </tr>\n",
       "  </tbody>\n",
       "</table>\n",
       "</div>"
      ],
      "text/plain": [
       "    Unnamed 0  probability  Unnamed 1\n",
       "r1  -0.514256     0.009714        NaN\n",
       "r2   0.262654     0.145131  -1.829309\n",
       "r3   0.680207    -0.540788   2.694192\n",
       "r4  -1.009600    -0.371142   0.759455\n",
       "r5        NaN          NaN  -0.212082"
      ]
     },
     "execution_count": 25,
     "metadata": {},
     "output_type": "execute_result"
    }
   ],
   "source": [
    "df = df.T\n",
    "df"
   ]
  },
  {
   "cell_type": "markdown",
   "metadata": {},
   "source": [
    "Renaming columns in a data frame"
   ]
  },
  {
   "cell_type": "code",
   "execution_count": 26,
   "metadata": {},
   "outputs": [
    {
     "data": {
      "text/html": [
       "<div>\n",
       "<style scoped>\n",
       "    .dataframe tbody tr th:only-of-type {\n",
       "        vertical-align: middle;\n",
       "    }\n",
       "\n",
       "    .dataframe tbody tr th {\n",
       "        vertical-align: top;\n",
       "    }\n",
       "\n",
       "    .dataframe thead th {\n",
       "        text-align: right;\n",
       "    }\n",
       "</style>\n",
       "<table border=\"1\" class=\"dataframe\">\n",
       "  <thead>\n",
       "    <tr style=\"text-align: right;\">\n",
       "      <th></th>\n",
       "      <th>p1</th>\n",
       "      <th>p2</th>\n",
       "      <th>p3</th>\n",
       "    </tr>\n",
       "  </thead>\n",
       "  <tbody>\n",
       "    <tr>\n",
       "      <th>r1</th>\n",
       "      <td>-0.514256</td>\n",
       "      <td>0.009714</td>\n",
       "      <td>NaN</td>\n",
       "    </tr>\n",
       "    <tr>\n",
       "      <th>r2</th>\n",
       "      <td>0.262654</td>\n",
       "      <td>0.145131</td>\n",
       "      <td>-1.829309</td>\n",
       "    </tr>\n",
       "    <tr>\n",
       "      <th>r3</th>\n",
       "      <td>0.680207</td>\n",
       "      <td>-0.540788</td>\n",
       "      <td>2.694192</td>\n",
       "    </tr>\n",
       "    <tr>\n",
       "      <th>r4</th>\n",
       "      <td>-1.009600</td>\n",
       "      <td>-0.371142</td>\n",
       "      <td>0.759455</td>\n",
       "    </tr>\n",
       "    <tr>\n",
       "      <th>r5</th>\n",
       "      <td>NaN</td>\n",
       "      <td>NaN</td>\n",
       "      <td>-0.212082</td>\n",
       "    </tr>\n",
       "  </tbody>\n",
       "</table>\n",
       "</div>"
      ],
      "text/plain": [
       "          p1        p2        p3\n",
       "r1 -0.514256  0.009714       NaN\n",
       "r2  0.262654  0.145131 -1.829309\n",
       "r3  0.680207 -0.540788  2.694192\n",
       "r4 -1.009600 -0.371142  0.759455\n",
       "r5       NaN       NaN -0.212082"
      ]
     },
     "execution_count": 26,
     "metadata": {},
     "output_type": "execute_result"
    }
   ],
   "source": [
    "df.columns = ['p1', 'p2', 'p3']\n",
    "df"
   ]
  },
  {
   "cell_type": "markdown",
   "metadata": {},
   "source": [
    "Dataframes can equally be named, for your sanity, name them :)"
   ]
  },
  {
   "cell_type": "code",
   "execution_count": 27,
   "metadata": {},
   "outputs": [
    {
     "data": {
      "text/html": [
       "<div>\n",
       "<style scoped>\n",
       "    .dataframe tbody tr th:only-of-type {\n",
       "        vertical-align: middle;\n",
       "    }\n",
       "\n",
       "    .dataframe tbody tr th {\n",
       "        vertical-align: top;\n",
       "    }\n",
       "\n",
       "    .dataframe thead th {\n",
       "        text-align: right;\n",
       "    }\n",
       "</style>\n",
       "<table border=\"1\" class=\"dataframe\">\n",
       "  <thead>\n",
       "    <tr style=\"text-align: right;\">\n",
       "      <th>probability</th>\n",
       "      <th>p1</th>\n",
       "      <th>p2</th>\n",
       "      <th>p3</th>\n",
       "    </tr>\n",
       "    <tr>\n",
       "      <th>variable</th>\n",
       "      <th></th>\n",
       "      <th></th>\n",
       "      <th></th>\n",
       "    </tr>\n",
       "  </thead>\n",
       "  <tbody>\n",
       "    <tr>\n",
       "      <th>r1</th>\n",
       "      <td>-0.514256</td>\n",
       "      <td>0.009714</td>\n",
       "      <td>NaN</td>\n",
       "    </tr>\n",
       "    <tr>\n",
       "      <th>r2</th>\n",
       "      <td>0.262654</td>\n",
       "      <td>0.145131</td>\n",
       "      <td>-1.829309</td>\n",
       "    </tr>\n",
       "    <tr>\n",
       "      <th>r3</th>\n",
       "      <td>0.680207</td>\n",
       "      <td>-0.540788</td>\n",
       "      <td>2.694192</td>\n",
       "    </tr>\n",
       "    <tr>\n",
       "      <th>r4</th>\n",
       "      <td>-1.009600</td>\n",
       "      <td>-0.371142</td>\n",
       "      <td>0.759455</td>\n",
       "    </tr>\n",
       "    <tr>\n",
       "      <th>r5</th>\n",
       "      <td>NaN</td>\n",
       "      <td>NaN</td>\n",
       "      <td>-0.212082</td>\n",
       "    </tr>\n",
       "  </tbody>\n",
       "</table>\n",
       "</div>"
      ],
      "text/plain": [
       "probability        p1        p2        p3\n",
       "variable                                 \n",
       "r1          -0.514256  0.009714       NaN\n",
       "r2           0.262654  0.145131 -1.829309\n",
       "r3           0.680207 -0.540788  2.694192\n",
       "r4          -1.009600 -0.371142  0.759455\n",
       "r5                NaN       NaN -0.212082"
      ]
     },
     "execution_count": 27,
     "metadata": {},
     "output_type": "execute_result"
    }
   ],
   "source": [
    "df.columns.name = \"probability\"\n",
    "df.index.name = \"variable\"\n",
    "df"
   ]
  },
  {
   "cell_type": "markdown",
   "metadata": {},
   "source": [
    "Now that you feel happy in the pandas world, some modules/functions require numpy arrays, how do you convert them ?"
   ]
  },
  {
   "cell_type": "code",
   "execution_count": 28,
   "metadata": {},
   "outputs": [
    {
     "data": {
      "text/plain": [
       "array([[-0.51425621,  0.00971415,         nan],\n",
       "       [ 0.26265444,  0.14513092, -1.82930918],\n",
       "       [ 0.68020655, -0.54078754,  2.69419235],\n",
       "       [-1.00960003, -0.37114165,  0.7594545 ],\n",
       "       [        nan,         nan, -0.21208218]])"
      ]
     },
     "execution_count": 28,
     "metadata": {},
     "output_type": "execute_result"
    }
   ],
   "source": [
    "np_df = df.values\n",
    "np_df"
   ]
  },
  {
   "cell_type": "code",
   "execution_count": 29,
   "metadata": {},
   "outputs": [
    {
     "data": {
      "text/plain": [
       "numpy.ndarray"
      ]
     },
     "execution_count": 29,
     "metadata": {},
     "output_type": "execute_result"
    }
   ],
   "source": [
    "type(np_df)"
   ]
  },
  {
   "cell_type": "markdown",
   "metadata": {
    "slideshow": {
     "slide_type": "slide"
    }
   },
   "source": [
    "If you need to work \"longer\" on the numpy side, I suggest to transform the pandas dataframe to a numpy recarray, as names are preserved; "
   ]
  },
  {
   "cell_type": "code",
   "execution_count": 30,
   "metadata": {},
   "outputs": [
    {
     "data": {
      "text/plain": [
       "rec.array([('r1', -0.51425621,  0.00971415,         nan),\n",
       "           ('r2',  0.26265444,  0.14513092, -1.82930918),\n",
       "           ('r3',  0.68020655, -0.54078754,  2.69419235),\n",
       "           ('r4', -1.00960003, -0.37114165,  0.7594545 ),\n",
       "           ('r5',         nan,         nan, -0.21208218)],\n",
       "          dtype=[('variable', 'O'), ('p1', '<f8'), ('p2', '<f8'), ('p3', '<f8')])"
      ]
     },
     "execution_count": 30,
     "metadata": {},
     "output_type": "execute_result"
    }
   ],
   "source": [
    "# np_df = df.values # \n",
    "np_df = df.to_records()\n",
    "np_df"
   ]
  },
  {
   "cell_type": "code",
   "execution_count": 31,
   "metadata": {},
   "outputs": [
    {
     "data": {
      "text/plain": [
       "array(['r1', 'r2', 'r3', 'r4', 'r5'], dtype=object)"
      ]
     },
     "execution_count": 31,
     "metadata": {},
     "output_type": "execute_result"
    }
   ],
   "source": [
    "np_df['variable']"
   ]
  },
  {
   "cell_type": "code",
   "execution_count": 32,
   "metadata": {},
   "outputs": [
    {
     "data": {
      "text/plain": [
       "('r1', -0.51425621, 0.00971415, nan)"
      ]
     },
     "execution_count": 32,
     "metadata": {},
     "output_type": "execute_result"
    }
   ],
   "source": [
    "np_df[0]"
   ]
  },
  {
   "cell_type": "code",
   "execution_count": 33,
   "metadata": {},
   "outputs": [
    {
     "data": {
      "text/plain": [
       "0.00971414719559546"
      ]
     },
     "execution_count": 33,
     "metadata": {},
     "output_type": "execute_result"
    }
   ],
   "source": [
    "np_df[0][2]"
   ]
  },
  {
   "cell_type": "markdown",
   "metadata": {},
   "source": [
    "## C-side and Python side "
   ]
  },
  {
   "cell_type": "markdown",
   "metadata": {},
   "source": [
    "**Note**:\n",
    "Regular Python floats live in the Python world - Numpy and Pandas live in the \"C world\", hence their fast vectorized operations. If you can avoid it, don't cast between the worlds! "
   ]
  },
  {
   "cell_type": "code",
   "execution_count": 34,
   "metadata": {},
   "outputs": [],
   "source": [
    "long_series = pd.Series(\n",
    "    np.random.randn(1000000), \n",
    ")"
   ]
  },
  {
   "cell_type": "code",
   "execution_count": 35,
   "metadata": {},
   "outputs": [
    {
     "name": "stdout",
     "output_type": "stream",
     "text": [
      "a is a <class 'list'> now!\n",
      "a is a <class 'list'> now!\n",
      "a is a <class 'list'> now!\n",
      "a is a <class 'list'> now!\n",
      "a is a <class 'list'> now!\n",
      "a is a <class 'list'> now!\n",
      "a is a <class 'list'> now!\n",
      "134 ms ± 9.21 ms per loop (mean ± std. dev. of 7 runs, 1 loop each)\n"
     ]
    }
   ],
   "source": [
    "%%timeit -n 1\n",
    "a = long_series.to_list()  # to python list!\n",
    "print(f\"a is a {type(a)} now!\")\n",
    "pd.Series(a)"
   ]
  },
  {
   "cell_type": "code",
   "execution_count": 36,
   "metadata": {},
   "outputs": [
    {
     "name": "stdout",
     "output_type": "stream",
     "text": [
      "a is a <class 'numpy.ndarray'> now!\n",
      "a is a <class 'numpy.ndarray'> now!\n",
      "a is a <class 'numpy.ndarray'> now!\n",
      "a is a <class 'numpy.ndarray'> now!\n",
      "a is a <class 'numpy.ndarray'> now!\n",
      "a is a <class 'numpy.ndarray'> now!\n",
      "a is a <class 'numpy.ndarray'> now!\n",
      "The slowest run took 4.32 times longer than the fastest. This could mean that an intermediate result is being cached.\n",
      "140 µs ± 102 µs per loop (mean ± std. dev. of 7 runs, 1 loop each)\n"
     ]
    }
   ],
   "source": [
    "%%timeit -n 1\n",
    "a = long_series.to_numpy()\n",
    "print(f\"a is a {type(a)} now!\")\n",
    "pd.Series(a)"
   ]
  },
  {
   "cell_type": "code",
   "execution_count": null,
   "metadata": {},
   "outputs": [],
   "source": []
  },
  {
   "cell_type": "markdown",
   "metadata": {},
   "source": [
    "# Operations between DataFrame and Series"
   ]
  },
  {
   "cell_type": "code",
   "execution_count": 37,
   "metadata": {},
   "outputs": [
    {
     "data": {
      "text/html": [
       "<div>\n",
       "<style scoped>\n",
       "    .dataframe tbody tr th:only-of-type {\n",
       "        vertical-align: middle;\n",
       "    }\n",
       "\n",
       "    .dataframe tbody tr th {\n",
       "        vertical-align: top;\n",
       "    }\n",
       "\n",
       "    .dataframe thead th {\n",
       "        text-align: right;\n",
       "    }\n",
       "</style>\n",
       "<table border=\"1\" class=\"dataframe\">\n",
       "  <thead>\n",
       "    <tr style=\"text-align: right;\">\n",
       "      <th></th>\n",
       "      <th>r1</th>\n",
       "      <th>r2</th>\n",
       "      <th>r3</th>\n",
       "      <th>r4</th>\n",
       "    </tr>\n",
       "  </thead>\n",
       "  <tbody>\n",
       "    <tr>\n",
       "      <th>Unnamed 0</th>\n",
       "      <td>-0.514256</td>\n",
       "      <td>0.262654</td>\n",
       "      <td>0.680207</td>\n",
       "      <td>-1.009600</td>\n",
       "    </tr>\n",
       "    <tr>\n",
       "      <th>probability</th>\n",
       "      <td>0.009714</td>\n",
       "      <td>0.145131</td>\n",
       "      <td>-0.540788</td>\n",
       "      <td>-0.371142</td>\n",
       "    </tr>\n",
       "  </tbody>\n",
       "</table>\n",
       "</div>"
      ],
      "text/plain": [
       "                   r1        r2        r3        r4\n",
       "Unnamed 0   -0.514256  0.262654  0.680207 -1.009600\n",
       "probability  0.009714  0.145131 -0.540788 -0.371142"
      ]
     },
     "execution_count": 37,
     "metadata": {},
     "output_type": "execute_result"
    }
   ],
   "source": [
    "df_small = pd.DataFrame([c, d])\n",
    "df_small"
   ]
  },
  {
   "cell_type": "code",
   "execution_count": 38,
   "metadata": {},
   "outputs": [
    {
     "data": {
      "text/plain": [
       "r1   -0.514256\n",
       "r2    0.262654\n",
       "r3    0.680207\n",
       "r4   -1.009600\n",
       "dtype: float64"
      ]
     },
     "execution_count": 38,
     "metadata": {},
     "output_type": "execute_result"
    }
   ],
   "source": [
    "c"
   ]
  },
  {
   "cell_type": "code",
   "execution_count": 39,
   "metadata": {},
   "outputs": [
    {
     "data": {
      "text/html": [
       "<div>\n",
       "<style scoped>\n",
       "    .dataframe tbody tr th:only-of-type {\n",
       "        vertical-align: middle;\n",
       "    }\n",
       "\n",
       "    .dataframe tbody tr th {\n",
       "        vertical-align: top;\n",
       "    }\n",
       "\n",
       "    .dataframe thead th {\n",
       "        text-align: right;\n",
       "    }\n",
       "</style>\n",
       "<table border=\"1\" class=\"dataframe\">\n",
       "  <thead>\n",
       "    <tr style=\"text-align: right;\">\n",
       "      <th></th>\n",
       "      <th>r1</th>\n",
       "      <th>r2</th>\n",
       "      <th>r3</th>\n",
       "      <th>r4</th>\n",
       "    </tr>\n",
       "  </thead>\n",
       "  <tbody>\n",
       "    <tr>\n",
       "      <th>Unnamed 0</th>\n",
       "      <td>0.00000</td>\n",
       "      <td>0.000000</td>\n",
       "      <td>0.000000</td>\n",
       "      <td>0.000000</td>\n",
       "    </tr>\n",
       "    <tr>\n",
       "      <th>probability</th>\n",
       "      <td>0.52397</td>\n",
       "      <td>-0.117524</td>\n",
       "      <td>-1.220994</td>\n",
       "      <td>0.638458</td>\n",
       "    </tr>\n",
       "  </tbody>\n",
       "</table>\n",
       "</div>"
      ],
      "text/plain": [
       "                  r1        r2        r3        r4\n",
       "Unnamed 0    0.00000  0.000000  0.000000  0.000000\n",
       "probability  0.52397 -0.117524 -1.220994  0.638458"
      ]
     },
     "execution_count": 39,
     "metadata": {},
     "output_type": "execute_result"
    }
   ],
   "source": [
    "df_small - c"
   ]
  },
  {
   "cell_type": "markdown",
   "metadata": {},
   "source": [
    "Next time you want to normalize each row of a data frame, one can define the correction factors as a series and just e.g. subtract it. "
   ]
  },
  {
   "cell_type": "code",
   "execution_count": 40,
   "metadata": {},
   "outputs": [],
   "source": [
    "# renaming columns"
   ]
  },
  {
   "cell_type": "code",
   "execution_count": 41,
   "metadata": {},
   "outputs": [
    {
     "data": {
      "text/html": [
       "<div>\n",
       "<style scoped>\n",
       "    .dataframe tbody tr th:only-of-type {\n",
       "        vertical-align: middle;\n",
       "    }\n",
       "\n",
       "    .dataframe tbody tr th {\n",
       "        vertical-align: top;\n",
       "    }\n",
       "\n",
       "    .dataframe thead th {\n",
       "        text-align: right;\n",
       "    }\n",
       "</style>\n",
       "<table border=\"1\" class=\"dataframe\">\n",
       "  <thead>\n",
       "    <tr style=\"text-align: right;\">\n",
       "      <th>probability</th>\n",
       "      <th>p1</th>\n",
       "      <th>p2</th>\n",
       "      <th>p3</th>\n",
       "    </tr>\n",
       "    <tr>\n",
       "      <th>variable</th>\n",
       "      <th></th>\n",
       "      <th></th>\n",
       "      <th></th>\n",
       "    </tr>\n",
       "  </thead>\n",
       "  <tbody>\n",
       "    <tr>\n",
       "      <th>r1</th>\n",
       "      <td>-0.514256</td>\n",
       "      <td>0.009714</td>\n",
       "      <td>NaN</td>\n",
       "    </tr>\n",
       "    <tr>\n",
       "      <th>r2</th>\n",
       "      <td>0.262654</td>\n",
       "      <td>0.145131</td>\n",
       "      <td>-1.829309</td>\n",
       "    </tr>\n",
       "    <tr>\n",
       "      <th>r3</th>\n",
       "      <td>0.680207</td>\n",
       "      <td>-0.540788</td>\n",
       "      <td>2.694192</td>\n",
       "    </tr>\n",
       "    <tr>\n",
       "      <th>r4</th>\n",
       "      <td>-1.009600</td>\n",
       "      <td>-0.371142</td>\n",
       "      <td>0.759455</td>\n",
       "    </tr>\n",
       "    <tr>\n",
       "      <th>r5</th>\n",
       "      <td>NaN</td>\n",
       "      <td>NaN</td>\n",
       "      <td>-0.212082</td>\n",
       "    </tr>\n",
       "  </tbody>\n",
       "</table>\n",
       "</div>"
      ],
      "text/plain": [
       "probability        p1        p2        p3\n",
       "variable                                 \n",
       "r1          -0.514256  0.009714       NaN\n",
       "r2           0.262654  0.145131 -1.829309\n",
       "r3           0.680207 -0.540788  2.694192\n",
       "r4          -1.009600 -0.371142  0.759455\n",
       "r5                NaN       NaN -0.212082"
      ]
     },
     "execution_count": 41,
     "metadata": {},
     "output_type": "execute_result"
    }
   ],
   "source": [
    "df"
   ]
  },
  {
   "cell_type": "code",
   "execution_count": 42,
   "metadata": {},
   "outputs": [],
   "source": [
    "df.rename(columns={'p1':'VLC'}, inplace=True)"
   ]
  },
  {
   "cell_type": "code",
   "execution_count": 43,
   "metadata": {},
   "outputs": [
    {
     "data": {
      "text/html": [
       "<div>\n",
       "<style scoped>\n",
       "    .dataframe tbody tr th:only-of-type {\n",
       "        vertical-align: middle;\n",
       "    }\n",
       "\n",
       "    .dataframe tbody tr th {\n",
       "        vertical-align: top;\n",
       "    }\n",
       "\n",
       "    .dataframe thead th {\n",
       "        text-align: right;\n",
       "    }\n",
       "</style>\n",
       "<table border=\"1\" class=\"dataframe\">\n",
       "  <thead>\n",
       "    <tr style=\"text-align: right;\">\n",
       "      <th>probability</th>\n",
       "      <th>VLC</th>\n",
       "      <th>p2</th>\n",
       "      <th>p3</th>\n",
       "    </tr>\n",
       "    <tr>\n",
       "      <th>variable</th>\n",
       "      <th></th>\n",
       "      <th></th>\n",
       "      <th></th>\n",
       "    </tr>\n",
       "  </thead>\n",
       "  <tbody>\n",
       "    <tr>\n",
       "      <th>r1</th>\n",
       "      <td>-0.514256</td>\n",
       "      <td>0.009714</td>\n",
       "      <td>NaN</td>\n",
       "    </tr>\n",
       "    <tr>\n",
       "      <th>r2</th>\n",
       "      <td>0.262654</td>\n",
       "      <td>0.145131</td>\n",
       "      <td>-1.829309</td>\n",
       "    </tr>\n",
       "    <tr>\n",
       "      <th>r3</th>\n",
       "      <td>0.680207</td>\n",
       "      <td>-0.540788</td>\n",
       "      <td>2.694192</td>\n",
       "    </tr>\n",
       "    <tr>\n",
       "      <th>r4</th>\n",
       "      <td>-1.009600</td>\n",
       "      <td>-0.371142</td>\n",
       "      <td>0.759455</td>\n",
       "    </tr>\n",
       "    <tr>\n",
       "      <th>r5</th>\n",
       "      <td>NaN</td>\n",
       "      <td>NaN</td>\n",
       "      <td>-0.212082</td>\n",
       "    </tr>\n",
       "  </tbody>\n",
       "</table>\n",
       "</div>"
      ],
      "text/plain": [
       "probability       VLC        p2        p3\n",
       "variable                                 \n",
       "r1          -0.514256  0.009714       NaN\n",
       "r2           0.262654  0.145131 -1.829309\n",
       "r3           0.680207 -0.540788  2.694192\n",
       "r4          -1.009600 -0.371142  0.759455\n",
       "r5                NaN       NaN -0.212082"
      ]
     },
     "execution_count": 43,
     "metadata": {},
     "output_type": "execute_result"
    }
   ],
   "source": [
    "df"
   ]
  },
  {
   "cell_type": "code",
   "execution_count": 44,
   "metadata": {},
   "outputs": [
    {
     "data": {
      "text/html": [
       "<div>\n",
       "<style scoped>\n",
       "    .dataframe tbody tr th:only-of-type {\n",
       "        vertical-align: middle;\n",
       "    }\n",
       "\n",
       "    .dataframe tbody tr th {\n",
       "        vertical-align: top;\n",
       "    }\n",
       "\n",
       "    .dataframe thead th {\n",
       "        text-align: right;\n",
       "    }\n",
       "</style>\n",
       "<table border=\"1\" class=\"dataframe\">\n",
       "  <thead>\n",
       "    <tr style=\"text-align: right;\">\n",
       "      <th>probability</th>\n",
       "      <th>VLC</th>\n",
       "      <th>p2</th>\n",
       "    </tr>\n",
       "    <tr>\n",
       "      <th>variable</th>\n",
       "      <th></th>\n",
       "      <th></th>\n",
       "    </tr>\n",
       "  </thead>\n",
       "  <tbody>\n",
       "    <tr>\n",
       "      <th>r1</th>\n",
       "      <td>-0.514256</td>\n",
       "      <td>0.009714</td>\n",
       "    </tr>\n",
       "    <tr>\n",
       "      <th>r2</th>\n",
       "      <td>0.262654</td>\n",
       "      <td>0.145131</td>\n",
       "    </tr>\n",
       "    <tr>\n",
       "      <th>r3</th>\n",
       "      <td>0.680207</td>\n",
       "      <td>-0.540788</td>\n",
       "    </tr>\n",
       "    <tr>\n",
       "      <th>r4</th>\n",
       "      <td>-1.009600</td>\n",
       "      <td>-0.371142</td>\n",
       "    </tr>\n",
       "    <tr>\n",
       "      <th>r5</th>\n",
       "      <td>NaN</td>\n",
       "      <td>NaN</td>\n",
       "    </tr>\n",
       "  </tbody>\n",
       "</table>\n",
       "</div>"
      ],
      "text/plain": [
       "probability       VLC        p2\n",
       "variable                       \n",
       "r1          -0.514256  0.009714\n",
       "r2           0.262654  0.145131\n",
       "r3           0.680207 -0.540788\n",
       "r4          -1.009600 -0.371142\n",
       "r5                NaN       NaN"
      ]
     },
     "execution_count": 44,
     "metadata": {},
     "output_type": "execute_result"
    }
   ],
   "source": [
    "# subselecting a set of columns! \n",
    "df[[\"VLC\", 'p2']]"
   ]
  },
  {
   "cell_type": "markdown",
   "metadata": {},
   "source": [
    "**Note:**\n",
    "This only creates a view of the data! "
   ]
  },
  {
   "cell_type": "markdown",
   "metadata": {},
   "source": [
    "# Pandas IO\n",
    "Pandas comes with a wide array of input output modules see\n",
    "https://pandas.pydata.org/pandas-docs/stable/user_guide/io.html\n",
    "\n",
    "**NOTE:** reading xlsx is _much_ slower than csv"
   ]
  },
  {
   "cell_type": "markdown",
   "metadata": {},
   "source": [
    "Your request: Scraping websites! \n",
    "\n",
    "Today with Pandas scraping wikipedia. In particular the oldest universities!\n",
    "\n",
    "Alternatively beautiful soup https://www.crummy.com/software/BeautifulSoup/bs4/doc/ or Scrapy https://scrapy.org/"
   ]
  },
  {
   "cell_type": "code",
   "execution_count": 45,
   "metadata": {},
   "outputs": [],
   "source": [
    "url = \"https://en.wikipedia.org/wiki/List_of_oldest_universities_in_continuous_operation\""
   ]
  },
  {
   "cell_type": "code",
   "execution_count": 46,
   "metadata": {},
   "outputs": [],
   "source": [
    "import ssl\n",
    "ssl._create_default_https_context = ssl._create_unverified_context"
   ]
  },
  {
   "cell_type": "code",
   "execution_count": 47,
   "metadata": {},
   "outputs": [],
   "source": [
    "dfs = pd.read_html(url) # do you get SSL: CERTIFICATE_VERIFY_FAILED ?"
   ]
  },
  {
   "cell_type": "code",
   "execution_count": 48,
   "metadata": {},
   "outputs": [
    {
     "data": {
      "text/plain": [
       "9"
      ]
     },
     "execution_count": 48,
     "metadata": {},
     "output_type": "execute_result"
    }
   ],
   "source": [
    "len(dfs)"
   ]
  },
  {
   "cell_type": "code",
   "execution_count": 49,
   "metadata": {},
   "outputs": [
    {
     "data": {
      "text/html": [
       "<div>\n",
       "<style scoped>\n",
       "    .dataframe tbody tr th:only-of-type {\n",
       "        vertical-align: middle;\n",
       "    }\n",
       "\n",
       "    .dataframe tbody tr th {\n",
       "        vertical-align: top;\n",
       "    }\n",
       "\n",
       "    .dataframe thead tr th {\n",
       "        text-align: left;\n",
       "    }\n",
       "</style>\n",
       "<table border=\"1\" class=\"dataframe\">\n",
       "  <thead>\n",
       "    <tr>\n",
       "      <th></th>\n",
       "      <th>Year</th>\n",
       "      <th>University</th>\n",
       "      <th colspan=\"2\" halign=\"left\">Location</th>\n",
       "      <th>Notes</th>\n",
       "    </tr>\n",
       "    <tr>\n",
       "      <th></th>\n",
       "      <th>Year</th>\n",
       "      <th>University</th>\n",
       "      <th>Original</th>\n",
       "      <th>Current</th>\n",
       "      <th>Notes</th>\n",
       "    </tr>\n",
       "  </thead>\n",
       "  <tbody>\n",
       "    <tr>\n",
       "      <th>0</th>\n",
       "      <td>1088(charter granted 1158)</td>\n",
       "      <td>University of Bologna</td>\n",
       "      <td>Kingdom of Italy, Holy Roman Empire</td>\n",
       "      <td>Bologna, Italy</td>\n",
       "      <td>The oldest university in the world. A universi...</td>\n",
       "    </tr>\n",
       "    <tr>\n",
       "      <th>1</th>\n",
       "      <td>1096–1167(charter granted in 1248)[11]</td>\n",
       "      <td>University of Oxford</td>\n",
       "      <td>Kingdom of England</td>\n",
       "      <td>Oxford, United Kingdom</td>\n",
       "      <td>Oxford claims its founding (\"...teaching exist...</td>\n",
       "    </tr>\n",
       "    <tr>\n",
       "      <th>2</th>\n",
       "      <td>1134 (charter granted in 1218)</td>\n",
       "      <td>University of Salamanca</td>\n",
       "      <td>Kingdom of León</td>\n",
       "      <td>Salamanca, Spain</td>\n",
       "      <td>The oldest university in the Hispanic world. T...</td>\n",
       "    </tr>\n",
       "    <tr>\n",
       "      <th>3</th>\n",
       "      <td>1209(charter granted in 1231)[16]</td>\n",
       "      <td>University of Cambridge</td>\n",
       "      <td>Kingdom of England</td>\n",
       "      <td>Cambridge, United Kingdom</td>\n",
       "      <td>Founded by scholars leaving Oxford after a dis...</td>\n",
       "    </tr>\n",
       "    <tr>\n",
       "      <th>4</th>\n",
       "      <td>1222(probably older)</td>\n",
       "      <td>University of Padua</td>\n",
       "      <td>Medieval commune of Padua</td>\n",
       "      <td>Padua, Italy</td>\n",
       "      <td>Founded by scholars and professors after leavi...</td>\n",
       "    </tr>\n",
       "    <tr>\n",
       "      <th>5</th>\n",
       "      <td>1224 (1258)</td>\n",
       "      <td>University of Naples Federico II</td>\n",
       "      <td>Kingdom of Sicily</td>\n",
       "      <td>Naples, Italy</td>\n",
       "      <td>The first public university,[20] founded by Fr...</td>\n",
       "    </tr>\n",
       "    <tr>\n",
       "      <th>6</th>\n",
       "      <td>1240–1357</td>\n",
       "      <td>University of Siena</td>\n",
       "      <td>Republic of Siena</td>\n",
       "      <td>Siena, Italy</td>\n",
       "      <td>Originally founded in 1240 by the Commune of S...</td>\n",
       "    </tr>\n",
       "    <tr>\n",
       "      <th>7</th>\n",
       "      <td>1290</td>\n",
       "      <td>University of Coimbra[23]</td>\n",
       "      <td>Kingdom of Portugal</td>\n",
       "      <td>Coimbra, Portugal</td>\n",
       "      <td>It began its existence in Lisbon with the name...</td>\n",
       "    </tr>\n",
       "    <tr>\n",
       "      <th>8</th>\n",
       "      <td>1290</td>\n",
       "      <td>University of Macerata[23]</td>\n",
       "      <td>Papal States</td>\n",
       "      <td>Macerata, Italy</td>\n",
       "      <td>Founded in 1290, possibly as a private law sch...</td>\n",
       "    </tr>\n",
       "    <tr>\n",
       "      <th>9</th>\n",
       "      <td>1293</td>\n",
       "      <td>University of Valladolid</td>\n",
       "      <td>Crown of Castile</td>\n",
       "      <td>Valladolid, Spain</td>\n",
       "      <td>Founded in the late 13th century (first docume...</td>\n",
       "    </tr>\n",
       "    <tr>\n",
       "      <th>10</th>\n",
       "      <td>1293</td>\n",
       "      <td>Complutense University of Madrid</td>\n",
       "      <td>Crown of Castile</td>\n",
       "      <td>Madrid, Spain</td>\n",
       "      <td>The University of Alcalá was founded by Sancho...</td>\n",
       "    </tr>\n",
       "    <tr>\n",
       "      <th>11</th>\n",
       "      <td>1303</td>\n",
       "      <td>Sapienza University of Rome</td>\n",
       "      <td>Papal States</td>\n",
       "      <td>Rome, Italy</td>\n",
       "      <td>Founded by Pope Boniface VIII, but became a st...</td>\n",
       "    </tr>\n",
       "    <tr>\n",
       "      <th>12</th>\n",
       "      <td>1308</td>\n",
       "      <td>University of Perugia</td>\n",
       "      <td>Papal States</td>\n",
       "      <td>Perugia, Italy</td>\n",
       "      <td>Attested by the Bull of Pope Clement V.</td>\n",
       "    </tr>\n",
       "    <tr>\n",
       "      <th>13</th>\n",
       "      <td>1321</td>\n",
       "      <td>University of Florence</td>\n",
       "      <td>Republic of Florence</td>\n",
       "      <td>Florence, Italy</td>\n",
       "      <td>The University of Florence evolved from the St...</td>\n",
       "    </tr>\n",
       "    <tr>\n",
       "      <th>14</th>\n",
       "      <td>1343</td>\n",
       "      <td>University of Pisa</td>\n",
       "      <td>Republic of Pisa</td>\n",
       "      <td>Pisa, Italy</td>\n",
       "      <td>It was formally founded on 3 September 1343 by...</td>\n",
       "    </tr>\n",
       "    <tr>\n",
       "      <th>15</th>\n",
       "      <td>1348</td>\n",
       "      <td>Charles University</td>\n",
       "      <td>Kingdom of Bohemia, Holy Roman Empire</td>\n",
       "      <td>Prague, Czech Republic</td>\n",
       "      <td>Three of four faculties closed in 1419. Merged...</td>\n",
       "    </tr>\n",
       "    <tr>\n",
       "      <th>16</th>\n",
       "      <td>1361</td>\n",
       "      <td>University of Pavia</td>\n",
       "      <td>Domain of the House of Visconti</td>\n",
       "      <td>Pavia, Italy</td>\n",
       "      <td>Closed for short periods during the Italian Wa...</td>\n",
       "    </tr>\n",
       "    <tr>\n",
       "      <th>17</th>\n",
       "      <td>1364</td>\n",
       "      <td>Jagiellonian University</td>\n",
       "      <td>Kingdom of Poland</td>\n",
       "      <td>Kraków, Poland</td>\n",
       "      <td>Founded by Casimir the Great under the name St...</td>\n",
       "    </tr>\n",
       "    <tr>\n",
       "      <th>18</th>\n",
       "      <td>1365</td>\n",
       "      <td>University of Vienna</td>\n",
       "      <td>Holy Roman Empire</td>\n",
       "      <td>Vienna, Austria</td>\n",
       "      <td>Modelled on the University of Paris.</td>\n",
       "    </tr>\n",
       "    <tr>\n",
       "      <th>19</th>\n",
       "      <td>1386</td>\n",
       "      <td>Ruprecht Karl University of Heidelberg</td>\n",
       "      <td>Holy Roman Empire</td>\n",
       "      <td>Heidelberg, Germany</td>\n",
       "      <td>Founded by Rupert I, Elector Palatine. The old...</td>\n",
       "    </tr>\n",
       "    <tr>\n",
       "      <th>20</th>\n",
       "      <td>1391</td>\n",
       "      <td>University of Ferrara</td>\n",
       "      <td>House of Este</td>\n",
       "      <td>Ferrara, Italy</td>\n",
       "      <td>Founded by Marquis Alberto d'Este.</td>\n",
       "    </tr>\n",
       "    <tr>\n",
       "      <th>21</th>\n",
       "      <td>1404</td>\n",
       "      <td>University of Turin</td>\n",
       "      <td>Duchy of Savoy</td>\n",
       "      <td>Turin, Italy</td>\n",
       "      <td>Founded by the prince \"Louis of Piedmont\" duri...</td>\n",
       "    </tr>\n",
       "    <tr>\n",
       "      <th>22</th>\n",
       "      <td>1409</td>\n",
       "      <td>University of Leipzig</td>\n",
       "      <td>Holy Roman Empire</td>\n",
       "      <td>Leipzig, Germany</td>\n",
       "      <td>Founded when German-speaking staff left Prague...</td>\n",
       "    </tr>\n",
       "    <tr>\n",
       "      <th>23</th>\n",
       "      <td>1413</td>\n",
       "      <td>University of St. Andrews</td>\n",
       "      <td>Kingdom of Scotland</td>\n",
       "      <td>St. Andrews, United Kingdom</td>\n",
       "      <td>A school of higher studies was founded in 1410...</td>\n",
       "    </tr>\n",
       "    <tr>\n",
       "      <th>24</th>\n",
       "      <td>1434</td>\n",
       "      <td>University of Catania</td>\n",
       "      <td>Kingdom of Sicily</td>\n",
       "      <td>Catania, Italy</td>\n",
       "      <td>The oldest in Sicily. Founded by Alfonso V of ...</td>\n",
       "    </tr>\n",
       "    <tr>\n",
       "      <th>25</th>\n",
       "      <td>1450[29]</td>\n",
       "      <td>University of Barcelona</td>\n",
       "      <td>Crown of Aragon</td>\n",
       "      <td>Barcelona, Spain</td>\n",
       "      <td>Founded by Alfonso V of Aragon as Estudi gener...</td>\n",
       "    </tr>\n",
       "    <tr>\n",
       "      <th>26</th>\n",
       "      <td>1451</td>\n",
       "      <td>University of Glasgow</td>\n",
       "      <td>Kingdom of Scotland</td>\n",
       "      <td>Glasgow, United Kingdom</td>\n",
       "      <td>Founded by a Papal bull.</td>\n",
       "    </tr>\n",
       "    <tr>\n",
       "      <th>27</th>\n",
       "      <td>1456</td>\n",
       "      <td>University of Greifswald</td>\n",
       "      <td>Holy Roman Empire</td>\n",
       "      <td>Greifswald, Germany</td>\n",
       "      <td>Teaching had started by 1436. Founded by initi...</td>\n",
       "    </tr>\n",
       "    <tr>\n",
       "      <th>28</th>\n",
       "      <td>1457</td>\n",
       "      <td>Albert Ludwigs University of Freiburg</td>\n",
       "      <td>Holy Roman Empire</td>\n",
       "      <td>Freiburg, Germany</td>\n",
       "      <td>Temporarily transferred to Constance in 1686–9...</td>\n",
       "    </tr>\n",
       "    <tr>\n",
       "      <th>29</th>\n",
       "      <td>1460</td>\n",
       "      <td>University of Basel</td>\n",
       "      <td>Holy Roman Empire</td>\n",
       "      <td>Basel, Switzerland</td>\n",
       "      <td>Founded in 1460 (Schola Basiliensis), the Univ...</td>\n",
       "    </tr>\n",
       "    <tr>\n",
       "      <th>30</th>\n",
       "      <td>1472</td>\n",
       "      <td>Ludwig Maximilian University of Munich</td>\n",
       "      <td>Holy Roman Empire</td>\n",
       "      <td>Munich, Germany</td>\n",
       "      <td>Founded in Ingolstadt in 1472; with a Papal Bu...</td>\n",
       "    </tr>\n",
       "    <tr>\n",
       "      <th>31</th>\n",
       "      <td>1477</td>\n",
       "      <td>Eberhard Karls University of Tübingen</td>\n",
       "      <td>Holy Roman Empire</td>\n",
       "      <td>Tübingen, Germany</td>\n",
       "      <td>NaN</td>\n",
       "    </tr>\n",
       "    <tr>\n",
       "      <th>32</th>\n",
       "      <td>1477</td>\n",
       "      <td>Uppsala University</td>\n",
       "      <td>Kingdom of Sweden within the Kalmar Union</td>\n",
       "      <td>Uppsala, Sweden</td>\n",
       "      <td>Uppsala's bull, which granted the university i...</td>\n",
       "    </tr>\n",
       "    <tr>\n",
       "      <th>33</th>\n",
       "      <td>1479</td>\n",
       "      <td>University of Copenhagen</td>\n",
       "      <td>Kingdom of Denmark within the Kalmar Union</td>\n",
       "      <td>Copenhagen, Denmark</td>\n",
       "      <td>The University of Copenhagen is the oldest uni...</td>\n",
       "    </tr>\n",
       "    <tr>\n",
       "      <th>34</th>\n",
       "      <td>1481</td>\n",
       "      <td>University of Genoa</td>\n",
       "      <td>Republic of Genoa</td>\n",
       "      <td>Genoa, Italy</td>\n",
       "      <td>Founded in 1481 (Genuense Athenaeum).</td>\n",
       "    </tr>\n",
       "    <tr>\n",
       "      <th>35</th>\n",
       "      <td>1495</td>\n",
       "      <td>University of Aberdeen</td>\n",
       "      <td>Kingdom of Scotland</td>\n",
       "      <td>Aberdeen, United Kingdom</td>\n",
       "      <td>King's College was founded by a Papal bull in ...</td>\n",
       "    </tr>\n",
       "    <tr>\n",
       "      <th>36</th>\n",
       "      <td>1495</td>\n",
       "      <td>University of Santiago de Compostela</td>\n",
       "      <td>Kingdom of Galicia, Crown of Castile</td>\n",
       "      <td>Santiago de Compostela, Spain</td>\n",
       "      <td>The university traces its roots to 1495, when ...</td>\n",
       "    </tr>\n",
       "    <tr>\n",
       "      <th>37</th>\n",
       "      <td>1499</td>\n",
       "      <td>University of Valencia</td>\n",
       "      <td>Crown of Aragon</td>\n",
       "      <td>Valencia, Spain</td>\n",
       "      <td>NaN</td>\n",
       "    </tr>\n",
       "  </tbody>\n",
       "</table>\n",
       "</div>"
      ],
      "text/plain": [
       "                                      Year  \\\n",
       "                                      Year   \n",
       "0               1088(charter granted 1158)   \n",
       "1   1096–1167(charter granted in 1248)[11]   \n",
       "2           1134 (charter granted in 1218)   \n",
       "3        1209(charter granted in 1231)[16]   \n",
       "4                     1222(probably older)   \n",
       "5                              1224 (1258)   \n",
       "6                                1240–1357   \n",
       "7                                     1290   \n",
       "8                                     1290   \n",
       "9                                     1293   \n",
       "10                                    1293   \n",
       "11                                    1303   \n",
       "12                                    1308   \n",
       "13                                    1321   \n",
       "14                                    1343   \n",
       "15                                    1348   \n",
       "16                                    1361   \n",
       "17                                    1364   \n",
       "18                                    1365   \n",
       "19                                    1386   \n",
       "20                                    1391   \n",
       "21                                    1404   \n",
       "22                                    1409   \n",
       "23                                    1413   \n",
       "24                                    1434   \n",
       "25                                1450[29]   \n",
       "26                                    1451   \n",
       "27                                    1456   \n",
       "28                                    1457   \n",
       "29                                    1460   \n",
       "30                                    1472   \n",
       "31                                    1477   \n",
       "32                                    1477   \n",
       "33                                    1479   \n",
       "34                                    1481   \n",
       "35                                    1495   \n",
       "36                                    1495   \n",
       "37                                    1499   \n",
       "\n",
       "                                University  \\\n",
       "                                University   \n",
       "0                    University of Bologna   \n",
       "1                     University of Oxford   \n",
       "2                  University of Salamanca   \n",
       "3                  University of Cambridge   \n",
       "4                      University of Padua   \n",
       "5         University of Naples Federico II   \n",
       "6                      University of Siena   \n",
       "7                University of Coimbra[23]   \n",
       "8               University of Macerata[23]   \n",
       "9                 University of Valladolid   \n",
       "10        Complutense University of Madrid   \n",
       "11             Sapienza University of Rome   \n",
       "12                   University of Perugia   \n",
       "13                  University of Florence   \n",
       "14                      University of Pisa   \n",
       "15                      Charles University   \n",
       "16                     University of Pavia   \n",
       "17                 Jagiellonian University   \n",
       "18                    University of Vienna   \n",
       "19  Ruprecht Karl University of Heidelberg   \n",
       "20                   University of Ferrara   \n",
       "21                     University of Turin   \n",
       "22                   University of Leipzig   \n",
       "23               University of St. Andrews   \n",
       "24                   University of Catania   \n",
       "25                 University of Barcelona   \n",
       "26                   University of Glasgow   \n",
       "27                University of Greifswald   \n",
       "28   Albert Ludwigs University of Freiburg   \n",
       "29                     University of Basel   \n",
       "30  Ludwig Maximilian University of Munich   \n",
       "31   Eberhard Karls University of Tübingen   \n",
       "32                      Uppsala University   \n",
       "33                University of Copenhagen   \n",
       "34                     University of Genoa   \n",
       "35                  University of Aberdeen   \n",
       "36    University of Santiago de Compostela   \n",
       "37                  University of Valencia   \n",
       "\n",
       "                                      Location                                 \\\n",
       "                                      Original                        Current   \n",
       "0          Kingdom of Italy, Holy Roman Empire                 Bologna, Italy   \n",
       "1                           Kingdom of England         Oxford, United Kingdom   \n",
       "2                              Kingdom of León               Salamanca, Spain   \n",
       "3                           Kingdom of England      Cambridge, United Kingdom   \n",
       "4                    Medieval commune of Padua                   Padua, Italy   \n",
       "5                            Kingdom of Sicily                  Naples, Italy   \n",
       "6                            Republic of Siena                   Siena, Italy   \n",
       "7                          Kingdom of Portugal              Coimbra, Portugal   \n",
       "8                                 Papal States                Macerata, Italy   \n",
       "9                             Crown of Castile              Valladolid, Spain   \n",
       "10                            Crown of Castile                  Madrid, Spain   \n",
       "11                                Papal States                    Rome, Italy   \n",
       "12                                Papal States                 Perugia, Italy   \n",
       "13                        Republic of Florence                Florence, Italy   \n",
       "14                            Republic of Pisa                    Pisa, Italy   \n",
       "15       Kingdom of Bohemia, Holy Roman Empire         Prague, Czech Republic   \n",
       "16             Domain of the House of Visconti                   Pavia, Italy   \n",
       "17                           Kingdom of Poland                 Kraków, Poland   \n",
       "18                           Holy Roman Empire                Vienna, Austria   \n",
       "19                           Holy Roman Empire            Heidelberg, Germany   \n",
       "20                               House of Este                 Ferrara, Italy   \n",
       "21                              Duchy of Savoy                   Turin, Italy   \n",
       "22                           Holy Roman Empire               Leipzig, Germany   \n",
       "23                         Kingdom of Scotland    St. Andrews, United Kingdom   \n",
       "24                           Kingdom of Sicily                 Catania, Italy   \n",
       "25                             Crown of Aragon               Barcelona, Spain   \n",
       "26                         Kingdom of Scotland        Glasgow, United Kingdom   \n",
       "27                           Holy Roman Empire            Greifswald, Germany   \n",
       "28                           Holy Roman Empire              Freiburg, Germany   \n",
       "29                           Holy Roman Empire             Basel, Switzerland   \n",
       "30                           Holy Roman Empire                Munich, Germany   \n",
       "31                           Holy Roman Empire              Tübingen, Germany   \n",
       "32   Kingdom of Sweden within the Kalmar Union                Uppsala, Sweden   \n",
       "33  Kingdom of Denmark within the Kalmar Union            Copenhagen, Denmark   \n",
       "34                           Republic of Genoa                   Genoa, Italy   \n",
       "35                         Kingdom of Scotland       Aberdeen, United Kingdom   \n",
       "36        Kingdom of Galicia, Crown of Castile  Santiago de Compostela, Spain   \n",
       "37                             Crown of Aragon                Valencia, Spain   \n",
       "\n",
       "                                                Notes  \n",
       "                                                Notes  \n",
       "0   The oldest university in the world. A universi...  \n",
       "1   Oxford claims its founding (\"...teaching exist...  \n",
       "2   The oldest university in the Hispanic world. T...  \n",
       "3   Founded by scholars leaving Oxford after a dis...  \n",
       "4   Founded by scholars and professors after leavi...  \n",
       "5   The first public university,[20] founded by Fr...  \n",
       "6   Originally founded in 1240 by the Commune of S...  \n",
       "7   It began its existence in Lisbon with the name...  \n",
       "8   Founded in 1290, possibly as a private law sch...  \n",
       "9   Founded in the late 13th century (first docume...  \n",
       "10  The University of Alcalá was founded by Sancho...  \n",
       "11  Founded by Pope Boniface VIII, but became a st...  \n",
       "12            Attested by the Bull of Pope Clement V.  \n",
       "13  The University of Florence evolved from the St...  \n",
       "14  It was formally founded on 3 September 1343 by...  \n",
       "15  Three of four faculties closed in 1419. Merged...  \n",
       "16  Closed for short periods during the Italian Wa...  \n",
       "17  Founded by Casimir the Great under the name St...  \n",
       "18               Modelled on the University of Paris.  \n",
       "19  Founded by Rupert I, Elector Palatine. The old...  \n",
       "20                 Founded by Marquis Alberto d'Este.  \n",
       "21  Founded by the prince \"Louis of Piedmont\" duri...  \n",
       "22  Founded when German-speaking staff left Prague...  \n",
       "23  A school of higher studies was founded in 1410...  \n",
       "24  The oldest in Sicily. Founded by Alfonso V of ...  \n",
       "25  Founded by Alfonso V of Aragon as Estudi gener...  \n",
       "26                           Founded by a Papal bull.  \n",
       "27  Teaching had started by 1436. Founded by initi...  \n",
       "28  Temporarily transferred to Constance in 1686–9...  \n",
       "29  Founded in 1460 (Schola Basiliensis), the Univ...  \n",
       "30  Founded in Ingolstadt in 1472; with a Papal Bu...  \n",
       "31                                                NaN  \n",
       "32  Uppsala's bull, which granted the university i...  \n",
       "33  The University of Copenhagen is the oldest uni...  \n",
       "34              Founded in 1481 (Genuense Athenaeum).  \n",
       "35  King's College was founded by a Papal bull in ...  \n",
       "36  The university traces its roots to 1495, when ...  \n",
       "37                                                NaN  "
      ]
     },
     "execution_count": 49,
     "metadata": {},
     "output_type": "execute_result"
    }
   ],
   "source": [
    "dfs[1]"
   ]
  },
  {
   "cell_type": "code",
   "execution_count": 50,
   "metadata": {},
   "outputs": [],
   "source": [
    "udf = dfs[1]"
   ]
  },
  {
   "cell_type": "code",
   "execution_count": 51,
   "metadata": {},
   "outputs": [
    {
     "data": {
      "text/plain": [
       "MultiIndex([(      'Year',       'Year'),\n",
       "            ('University', 'University'),\n",
       "            (  'Location',   'Original'),\n",
       "            (  'Location',    'Current'),\n",
       "            (     'Notes',      'Notes')],\n",
       "           )"
      ]
     },
     "execution_count": 51,
     "metadata": {},
     "output_type": "execute_result"
    }
   ],
   "source": [
    "udf.columns"
   ]
  },
  {
   "cell_type": "code",
   "execution_count": 52,
   "metadata": {},
   "outputs": [],
   "source": [
    "udf.columns = [ e[0] for e in udf.columns ]"
   ]
  },
  {
   "cell_type": "code",
   "execution_count": 53,
   "metadata": {},
   "outputs": [
    {
     "data": {
      "text/html": [
       "<div>\n",
       "<style scoped>\n",
       "    .dataframe tbody tr th:only-of-type {\n",
       "        vertical-align: middle;\n",
       "    }\n",
       "\n",
       "    .dataframe tbody tr th {\n",
       "        vertical-align: top;\n",
       "    }\n",
       "\n",
       "    .dataframe thead th {\n",
       "        text-align: right;\n",
       "    }\n",
       "</style>\n",
       "<table border=\"1\" class=\"dataframe\">\n",
       "  <thead>\n",
       "    <tr style=\"text-align: right;\">\n",
       "      <th></th>\n",
       "      <th>Year</th>\n",
       "      <th>University</th>\n",
       "      <th>Location</th>\n",
       "      <th>Location</th>\n",
       "      <th>Notes</th>\n",
       "    </tr>\n",
       "  </thead>\n",
       "  <tbody>\n",
       "    <tr>\n",
       "      <th>0</th>\n",
       "      <td>1088(charter granted 1158)</td>\n",
       "      <td>University of Bologna</td>\n",
       "      <td>Kingdom of Italy, Holy Roman Empire</td>\n",
       "      <td>Bologna, Italy</td>\n",
       "      <td>The oldest university in the world. A universi...</td>\n",
       "    </tr>\n",
       "    <tr>\n",
       "      <th>1</th>\n",
       "      <td>1096–1167(charter granted in 1248)[11]</td>\n",
       "      <td>University of Oxford</td>\n",
       "      <td>Kingdom of England</td>\n",
       "      <td>Oxford, United Kingdom</td>\n",
       "      <td>Oxford claims its founding (\"...teaching exist...</td>\n",
       "    </tr>\n",
       "  </tbody>\n",
       "</table>\n",
       "</div>"
      ],
      "text/plain": [
       "                                     Year             University  \\\n",
       "0              1088(charter granted 1158)  University of Bologna   \n",
       "1  1096–1167(charter granted in 1248)[11]   University of Oxford   \n",
       "\n",
       "                              Location                Location  \\\n",
       "0  Kingdom of Italy, Holy Roman Empire          Bologna, Italy   \n",
       "1                   Kingdom of England  Oxford, United Kingdom   \n",
       "\n",
       "                                               Notes  \n",
       "0  The oldest university in the world. A universi...  \n",
       "1  Oxford claims its founding (\"...teaching exist...  "
      ]
     },
     "execution_count": 53,
     "metadata": {},
     "output_type": "execute_result"
    }
   ],
   "source": [
    "udf.head(2)"
   ]
  },
  {
   "cell_type": "code",
   "execution_count": 54,
   "metadata": {},
   "outputs": [],
   "source": [
    "udf.columns = ['Year', 'University', 'H-Location', 'G-Location', 'Notes' ]"
   ]
  },
  {
   "cell_type": "code",
   "execution_count": 55,
   "metadata": {},
   "outputs": [
    {
     "data": {
      "text/html": [
       "<div>\n",
       "<style scoped>\n",
       "    .dataframe tbody tr th:only-of-type {\n",
       "        vertical-align: middle;\n",
       "    }\n",
       "\n",
       "    .dataframe tbody tr th {\n",
       "        vertical-align: top;\n",
       "    }\n",
       "\n",
       "    .dataframe thead th {\n",
       "        text-align: right;\n",
       "    }\n",
       "</style>\n",
       "<table border=\"1\" class=\"dataframe\">\n",
       "  <thead>\n",
       "    <tr style=\"text-align: right;\">\n",
       "      <th></th>\n",
       "      <th>Year</th>\n",
       "      <th>University</th>\n",
       "      <th>H-Location</th>\n",
       "      <th>G-Location</th>\n",
       "      <th>Notes</th>\n",
       "    </tr>\n",
       "  </thead>\n",
       "  <tbody>\n",
       "    <tr>\n",
       "      <th>0</th>\n",
       "      <td>1088(charter granted 1158)</td>\n",
       "      <td>University of Bologna</td>\n",
       "      <td>Kingdom of Italy, Holy Roman Empire</td>\n",
       "      <td>Bologna, Italy</td>\n",
       "      <td>The oldest university in the world. A universi...</td>\n",
       "    </tr>\n",
       "    <tr>\n",
       "      <th>1</th>\n",
       "      <td>1096–1167(charter granted in 1248)[11]</td>\n",
       "      <td>University of Oxford</td>\n",
       "      <td>Kingdom of England</td>\n",
       "      <td>Oxford, United Kingdom</td>\n",
       "      <td>Oxford claims its founding (\"...teaching exist...</td>\n",
       "    </tr>\n",
       "    <tr>\n",
       "      <th>2</th>\n",
       "      <td>1134 (charter granted in 1218)</td>\n",
       "      <td>University of Salamanca</td>\n",
       "      <td>Kingdom of León</td>\n",
       "      <td>Salamanca, Spain</td>\n",
       "      <td>The oldest university in the Hispanic world. T...</td>\n",
       "    </tr>\n",
       "    <tr>\n",
       "      <th>3</th>\n",
       "      <td>1209(charter granted in 1231)[16]</td>\n",
       "      <td>University of Cambridge</td>\n",
       "      <td>Kingdom of England</td>\n",
       "      <td>Cambridge, United Kingdom</td>\n",
       "      <td>Founded by scholars leaving Oxford after a dis...</td>\n",
       "    </tr>\n",
       "    <tr>\n",
       "      <th>4</th>\n",
       "      <td>1222(probably older)</td>\n",
       "      <td>University of Padua</td>\n",
       "      <td>Medieval commune of Padua</td>\n",
       "      <td>Padua, Italy</td>\n",
       "      <td>Founded by scholars and professors after leavi...</td>\n",
       "    </tr>\n",
       "  </tbody>\n",
       "</table>\n",
       "</div>"
      ],
      "text/plain": [
       "                                     Year               University  \\\n",
       "0              1088(charter granted 1158)    University of Bologna   \n",
       "1  1096–1167(charter granted in 1248)[11]     University of Oxford   \n",
       "2          1134 (charter granted in 1218)  University of Salamanca   \n",
       "3       1209(charter granted in 1231)[16]  University of Cambridge   \n",
       "4                    1222(probably older)      University of Padua   \n",
       "\n",
       "                            H-Location                 G-Location  \\\n",
       "0  Kingdom of Italy, Holy Roman Empire             Bologna, Italy   \n",
       "1                   Kingdom of England     Oxford, United Kingdom   \n",
       "2                      Kingdom of León           Salamanca, Spain   \n",
       "3                   Kingdom of England  Cambridge, United Kingdom   \n",
       "4            Medieval commune of Padua               Padua, Italy   \n",
       "\n",
       "                                               Notes  \n",
       "0  The oldest university in the world. A universi...  \n",
       "1  Oxford claims its founding (\"...teaching exist...  \n",
       "2  The oldest university in the Hispanic world. T...  \n",
       "3  Founded by scholars leaving Oxford after a dis...  \n",
       "4  Founded by scholars and professors after leavi...  "
      ]
     },
     "execution_count": 55,
     "metadata": {},
     "output_type": "execute_result"
    }
   ],
   "source": [
    "udf.head()"
   ]
  },
  {
   "cell_type": "markdown",
   "metadata": {},
   "source": [
    "## Gather some basic information around the dataframe"
   ]
  },
  {
   "cell_type": "code",
   "execution_count": 56,
   "metadata": {},
   "outputs": [
    {
     "data": {
      "text/html": [
       "<div>\n",
       "<style scoped>\n",
       "    .dataframe tbody tr th:only-of-type {\n",
       "        vertical-align: middle;\n",
       "    }\n",
       "\n",
       "    .dataframe tbody tr th {\n",
       "        vertical-align: top;\n",
       "    }\n",
       "\n",
       "    .dataframe thead th {\n",
       "        text-align: right;\n",
       "    }\n",
       "</style>\n",
       "<table border=\"1\" class=\"dataframe\">\n",
       "  <thead>\n",
       "    <tr style=\"text-align: right;\">\n",
       "      <th></th>\n",
       "      <th>Year</th>\n",
       "      <th>University</th>\n",
       "      <th>H-Location</th>\n",
       "      <th>G-Location</th>\n",
       "      <th>Notes</th>\n",
       "    </tr>\n",
       "  </thead>\n",
       "  <tbody>\n",
       "    <tr>\n",
       "      <th>count</th>\n",
       "      <td>38</td>\n",
       "      <td>38</td>\n",
       "      <td>38</td>\n",
       "      <td>38</td>\n",
       "      <td>36</td>\n",
       "    </tr>\n",
       "    <tr>\n",
       "      <th>unique</th>\n",
       "      <td>34</td>\n",
       "      <td>38</td>\n",
       "      <td>23</td>\n",
       "      <td>38</td>\n",
       "      <td>36</td>\n",
       "    </tr>\n",
       "    <tr>\n",
       "      <th>top</th>\n",
       "      <td>1293</td>\n",
       "      <td>University of Perugia</td>\n",
       "      <td>Holy Roman Empire</td>\n",
       "      <td>Uppsala, Sweden</td>\n",
       "      <td>A school of higher studies was founded in 1410...</td>\n",
       "    </tr>\n",
       "    <tr>\n",
       "      <th>freq</th>\n",
       "      <td>2</td>\n",
       "      <td>1</td>\n",
       "      <td>8</td>\n",
       "      <td>1</td>\n",
       "      <td>1</td>\n",
       "    </tr>\n",
       "  </tbody>\n",
       "</table>\n",
       "</div>"
      ],
      "text/plain": [
       "        Year             University         H-Location       G-Location  \\\n",
       "count     38                     38                 38               38   \n",
       "unique    34                     38                 23               38   \n",
       "top     1293  University of Perugia  Holy Roman Empire  Uppsala, Sweden   \n",
       "freq       2                      1                  8                1   \n",
       "\n",
       "                                                    Notes  \n",
       "count                                                  36  \n",
       "unique                                                 36  \n",
       "top     A school of higher studies was founded in 1410...  \n",
       "freq                                                    1  "
      ]
     },
     "execution_count": 56,
     "metadata": {},
     "output_type": "execute_result"
    }
   ],
   "source": [
    "udf.describe()"
   ]
  },
  {
   "cell_type": "code",
   "execution_count": 57,
   "metadata": {},
   "outputs": [
    {
     "name": "stdout",
     "output_type": "stream",
     "text": [
      "<class 'pandas.core.frame.DataFrame'>\n",
      "RangeIndex: 38 entries, 0 to 37\n",
      "Data columns (total 5 columns):\n",
      " #   Column      Non-Null Count  Dtype \n",
      "---  ------      --------------  ----- \n",
      " 0   Year        38 non-null     object\n",
      " 1   University  38 non-null     object\n",
      " 2   H-Location  38 non-null     object\n",
      " 3   G-Location  38 non-null     object\n",
      " 4   Notes       36 non-null     object\n",
      "dtypes: object(5)\n",
      "memory usage: 1.6+ KB\n"
     ]
    }
   ],
   "source": [
    "udf.info()"
   ]
  },
  {
   "cell_type": "markdown",
   "metadata": {},
   "source": [
    "We need to clean-up the Year\n",
    "\n",
    "Accessing the str properties!"
   ]
  },
  {
   "cell_type": "code",
   "execution_count": null,
   "metadata": {},
   "outputs": [],
   "source": [
    "udf['Year'].str.match(r'^(?P<year>[0-9]{4})')"
   ]
  },
  {
   "cell_type": "code",
   "execution_count": null,
   "metadata": {},
   "outputs": [],
   "source": [
    "udf['year'] = udf.Year.str.extract(r'(?P<year>[0-9]{4})')"
   ]
  },
  {
   "cell_type": "code",
   "execution_count": null,
   "metadata": {},
   "outputs": [],
   "source": [
    "udf.head()"
   ]
  },
  {
   "cell_type": "code",
   "execution_count": null,
   "metadata": {},
   "outputs": [],
   "source": [
    "udf.shape\n",
    "# (rows, columns)"
   ]
  },
  {
   "cell_type": "markdown",
   "metadata": {},
   "source": [
    "One cannot visualize all columns straight away in jupyter :( However redefining some options helps!"
   ]
  },
  {
   "cell_type": "code",
   "execution_count": null,
   "metadata": {},
   "outputs": [],
   "source": [
    "pd.set_option(\"max_columns\", 2000)"
   ]
  },
  {
   "cell_type": "markdown",
   "metadata": {},
   "source": [
    "# Sorting"
   ]
  },
  {
   "cell_type": "code",
   "execution_count": null,
   "metadata": {},
   "outputs": [],
   "source": [
    "udf.head()"
   ]
  },
  {
   "cell_type": "code",
   "execution_count": null,
   "metadata": {},
   "outputs": [],
   "source": [
    "udf.sort_values(['year'])"
   ]
  },
  {
   "cell_type": "markdown",
   "metadata": {},
   "source": [
    "Sort_values has kwargs like ascending = True|False and values are defined by a list, ie sort first by, then by ..."
   ]
  },
  {
   "cell_type": "code",
   "execution_count": null,
   "metadata": {},
   "outputs": [],
   "source": [
    "udf.sort_values(['year', 'G-Location'])"
   ]
  },
  {
   "cell_type": "markdown",
   "metadata": {},
   "source": [
    "Let split the G-location into city and country!"
   ]
  },
  {
   "cell_type": "code",
   "execution_count": null,
   "metadata": {},
   "outputs": [],
   "source": [
    "tmp_df = udf['G-Location'].str.split(\",\")\n",
    "display(tmp_df.head())   # not quite what we want .. we want two columns!"
   ]
  },
  {
   "cell_type": "markdown",
   "metadata": {},
   "source": [
    "How to get two columns?"
   ]
  },
  {
   "cell_type": "code",
   "execution_count": null,
   "metadata": {},
   "outputs": [],
   "source": []
  },
  {
   "cell_type": "code",
   "execution_count": null,
   "metadata": {},
   "outputs": [],
   "source": []
  },
  {
   "cell_type": "code",
   "execution_count": null,
   "metadata": {},
   "outputs": [],
   "source": []
  },
  {
   "cell_type": "code",
   "execution_count": null,
   "metadata": {},
   "outputs": [],
   "source": []
  },
  {
   "cell_type": "code",
   "execution_count": null,
   "metadata": {},
   "outputs": [],
   "source": [
    "tmp_df = udf['G-Location'].str.split(\",\", expand=True)\n",
    "tmp_df.columns = ['G-City', 'G-Country']"
   ]
  },
  {
   "cell_type": "code",
   "execution_count": null,
   "metadata": {},
   "outputs": [],
   "source": [
    "tmp_df"
   ]
  },
  {
   "cell_type": "code",
   "execution_count": null,
   "metadata": {},
   "outputs": [],
   "source": [
    "udf = udf.join(tmp_df)\n",
    "# there are many options to join frames "
   ]
  },
  {
   "cell_type": "code",
   "execution_count": null,
   "metadata": {},
   "outputs": [],
   "source": [
    "udf.head()"
   ]
  },
  {
   "cell_type": "markdown",
   "metadata": {},
   "source": [
    "# Deleting things"
   ]
  },
  {
   "cell_type": "code",
   "execution_count": null,
   "metadata": {},
   "outputs": [],
   "source": [
    "udf.head()"
   ]
  },
  {
   "cell_type": "code",
   "execution_count": null,
   "metadata": {},
   "outputs": [],
   "source": [
    "udf.drop(1)"
   ]
  },
  {
   "cell_type": "code",
   "execution_count": null,
   "metadata": {},
   "outputs": [],
   "source": [
    "udf.head(3)"
   ]
  },
  {
   "cell_type": "code",
   "execution_count": null,
   "metadata": {},
   "outputs": [],
   "source": [
    "udf.drop(columns=['G-Location', 'Year'])"
   ]
  },
  {
   "cell_type": "markdown",
   "metadata": {},
   "source": [
    "Dataframe or series are not automatically \"adjusted\" except you use `inpace=True`"
   ]
  },
  {
   "cell_type": "code",
   "execution_count": null,
   "metadata": {},
   "outputs": [],
   "source": [
    "udf"
   ]
  },
  {
   "cell_type": "code",
   "execution_count": null,
   "metadata": {},
   "outputs": [],
   "source": [
    "udf.drop(columns=['G-Location', 'Year'], inplace=True)"
   ]
  },
  {
   "cell_type": "code",
   "execution_count": null,
   "metadata": {},
   "outputs": [],
   "source": [
    "udf\n"
   ]
  },
  {
   "cell_type": "markdown",
   "metadata": {
    "slideshow": {
     "slide_type": "slide"
    }
   },
   "source": [
    "# slicing and dicing"
   ]
  },
  {
   "cell_type": "code",
   "execution_count": null,
   "metadata": {},
   "outputs": [],
   "source": [
    "udf[:3] # df[:'r3'] works as well"
   ]
  },
  {
   "cell_type": "code",
   "execution_count": null,
   "metadata": {},
   "outputs": [],
   "source": []
  },
  {
   "cell_type": "code",
   "execution_count": null,
   "metadata": {},
   "outputs": [],
   "source": [
    "# selecting one column!\n",
    "udf['G-Country']"
   ]
  },
  {
   "cell_type": "code",
   "execution_count": null,
   "metadata": {},
   "outputs": [],
   "source": [
    "# selecting one row\n",
    "udf.loc[1]"
   ]
  },
  {
   "cell_type": "code",
   "execution_count": null,
   "metadata": {},
   "outputs": [],
   "source": [
    "udf.info()"
   ]
  },
  {
   "cell_type": "code",
   "execution_count": null,
   "metadata": {},
   "outputs": [],
   "source": [
    "# mask also work on df!\n",
    "mask = udf['year'] < 1400\n",
    "mask.head(10)"
   ]
  },
  {
   "cell_type": "code",
   "execution_count": null,
   "metadata": {},
   "outputs": [],
   "source": [
    "udf.year = udf.year.astype(int)"
   ]
  },
  {
   "cell_type": "code",
   "execution_count": null,
   "metadata": {},
   "outputs": [],
   "source": [
    "_udf = udf.convert_dtypes()"
   ]
  },
  {
   "cell_type": "code",
   "execution_count": null,
   "metadata": {},
   "outputs": [],
   "source": [
    "_udf.info()"
   ]
  },
  {
   "cell_type": "code",
   "execution_count": null,
   "metadata": {},
   "outputs": [],
   "source": [
    "# mask also work on df!\n",
    "mask = udf.year < 1400\n",
    "mask.head(10)"
   ]
  },
  {
   "cell_type": "code",
   "execution_count": null,
   "metadata": {},
   "outputs": [],
   "source": [
    "udf[mask]"
   ]
  },
  {
   "cell_type": "code",
   "execution_count": null,
   "metadata": {},
   "outputs": [],
   "source": [
    "udf[udf['year'] < 1300] # reduces the data frame, again note! that is just a view, not a copy!"
   ]
  },
  {
   "cell_type": "code",
   "execution_count": null,
   "metadata": {},
   "outputs": [],
   "source": [
    "udf[udf['year'] < 1300].loc[1]"
   ]
  },
  {
   "cell_type": "code",
   "execution_count": null,
   "metadata": {},
   "outputs": [],
   "source": [
    "udf[udf['year'] > 1300].loc[1]"
   ]
  },
  {
   "cell_type": "code",
   "execution_count": null,
   "metadata": {},
   "outputs": [],
   "source": [
    "udf[udf['year'] > 1300].head(3)"
   ]
  },
  {
   "cell_type": "code",
   "execution_count": null,
   "metadata": {},
   "outputs": [],
   "source": [
    "udf[udf['year'] > 1300].iloc[1]"
   ]
  },
  {
   "cell_type": "markdown",
   "metadata": {},
   "source": [
    "## more natural query - or isn't it?"
   ]
  },
  {
   "cell_type": "code",
   "execution_count": null,
   "metadata": {},
   "outputs": [],
   "source": [
    "udf.query(\"year > 1300\").head(5)"
   ]
  },
  {
   "cell_type": "code",
   "execution_count": null,
   "metadata": {},
   "outputs": [],
   "source": [
    "udf.query(\"1349 > year > 1320\")"
   ]
  },
  {
   "cell_type": "code",
   "execution_count": null,
   "metadata": {},
   "outputs": [],
   "source": [
    "# Using local variables in queries\n",
    "upper_limit = 1400\n",
    "udf.query(\"@upper_limit > year > 1320\")"
   ]
  },
  {
   "cell_type": "markdown",
   "metadata": {},
   "source": [
    "## Find the maximum for a given series or dataframe"
   ]
  },
  {
   "cell_type": "code",
   "execution_count": null,
   "metadata": {},
   "outputs": [],
   "source": [
    "udf['year'].idxmax()"
   ]
  },
  {
   "cell_type": "markdown",
   "metadata": {},
   "source": [
    "## Unique values and their count"
   ]
  },
  {
   "cell_type": "code",
   "execution_count": null,
   "metadata": {},
   "outputs": [],
   "source": [
    "udf['G-Country'].unique()"
   ]
  },
  {
   "cell_type": "code",
   "execution_count": null,
   "metadata": {},
   "outputs": [],
   "source": [
    "udf['G-Country'].nunique()"
   ]
  },
  {
   "cell_type": "code",
   "execution_count": null,
   "metadata": {},
   "outputs": [],
   "source": [
    "udf['G-Country'].value_counts()"
   ]
  },
  {
   "cell_type": "code",
   "execution_count": null,
   "metadata": {},
   "outputs": [],
   "source": [
    "_udf = udf.set_index('University')"
   ]
  },
  {
   "cell_type": "code",
   "execution_count": null,
   "metadata": {},
   "outputs": [],
   "source": [
    "_udf.sample(5)"
   ]
  },
  {
   "cell_type": "code",
   "execution_count": null,
   "metadata": {},
   "outputs": [],
   "source": [
    "_udf.loc['University of Florence', ['Notes', 'year']]"
   ]
  },
  {
   "cell_type": "code",
   "execution_count": null,
   "metadata": {},
   "outputs": [],
   "source": [
    "_udf.loc['University of Florence', :]"
   ]
  },
  {
   "cell_type": "markdown",
   "metadata": {},
   "source": [
    "## Done with Basics!\n",
    "Take a look at the cheat sheet for a summary\n",
    "https://pandas.pydata.org/Pandas_Cheat_Sheet.pdf"
   ]
  },
  {
   "cell_type": "code",
   "execution_count": null,
   "metadata": {},
   "outputs": [],
   "source": []
  },
  {
   "cell_type": "markdown",
   "metadata": {},
   "source": [
    "# Hierarchical indexing"
   ]
  },
  {
   "cell_type": "code",
   "execution_count": null,
   "metadata": {},
   "outputs": [],
   "source": [
    "s = pd.Series(\n",
    "        np.random.randn(5), \n",
    "        index = [\n",
    "            ['p1','p1','p2','p2','p3'],\n",
    "            ['a','b','a','d','a']\n",
    "        ]\n",
    ")\n",
    "s"
   ]
  },
  {
   "cell_type": "code",
   "execution_count": null,
   "metadata": {},
   "outputs": [],
   "source": [
    "s.index"
   ]
  },
  {
   "cell_type": "code",
   "execution_count": null,
   "metadata": {},
   "outputs": [],
   "source": [
    "s.index.names = ['probability', 'type']"
   ]
  },
  {
   "cell_type": "code",
   "execution_count": null,
   "metadata": {},
   "outputs": [],
   "source": [
    "s"
   ]
  },
  {
   "cell_type": "code",
   "execution_count": null,
   "metadata": {},
   "outputs": [],
   "source": [
    "s['p1']"
   ]
  },
  {
   "cell_type": "code",
   "execution_count": null,
   "metadata": {},
   "outputs": [],
   "source": [
    "s[:, 'a'] # lower level "
   ]
  },
  {
   "cell_type": "code",
   "execution_count": null,
   "metadata": {},
   "outputs": [],
   "source": [
    "s2 = s.unstack()\n",
    "print(type(s2))\n",
    "s2"
   ]
  },
  {
   "cell_type": "code",
   "execution_count": null,
   "metadata": {},
   "outputs": [],
   "source": [
    "s3 = s2.stack()\n",
    "print(type(s3))\n",
    "s3"
   ]
  },
  {
   "cell_type": "markdown",
   "metadata": {},
   "source": [
    "## Multindex with Dataframes"
   ]
  },
  {
   "cell_type": "code",
   "execution_count": null,
   "metadata": {},
   "outputs": [],
   "source": [
    "df = pd.DataFrame(\n",
    "    [\n",
    "        c, \n",
    "        c * 20, \n",
    "        d,\n",
    "        np.exp(d),\n",
    "        pd.Series(np.random.randn(4), index=['r2', 'r3', 'r4', 'r5'])\n",
    "    ],\n",
    "    index = [\n",
    "        ['p1','p1','p2','p2','p3'],\n",
    "        ['a','b','a','d','a']\n",
    "    ]\n",
    ")\n",
    "df.index.names = ['probability', 'type']\n",
    "df"
   ]
  },
  {
   "cell_type": "code",
   "execution_count": null,
   "metadata": {},
   "outputs": [],
   "source": [
    "df = df.fillna(0)\n",
    "df"
   ]
  },
  {
   "cell_type": "markdown",
   "metadata": {},
   "source": [
    "**Note**:\n",
    "You can create multi indeces from a regular dataframe!"
   ]
  },
  {
   "cell_type": "code",
   "execution_count": null,
   "metadata": {},
   "outputs": [],
   "source": [
    "df2 = df.reset_index()"
   ]
  },
  {
   "cell_type": "code",
   "execution_count": null,
   "metadata": {},
   "outputs": [],
   "source": [
    "df2"
   ]
  },
  {
   "cell_type": "code",
   "execution_count": null,
   "metadata": {},
   "outputs": [],
   "source": [
    "df2.set_index(['probability', 'type'])"
   ]
  },
  {
   "cell_type": "code",
   "execution_count": null,
   "metadata": {},
   "outputs": [],
   "source": [
    "df2 = df.swaplevel('probability', 'type')\n",
    "df2"
   ]
  },
  {
   "cell_type": "code",
   "execution_count": null,
   "metadata": {},
   "outputs": [],
   "source": [
    "df2.sort_index(axis=0, level=0)"
   ]
  },
  {
   "cell_type": "markdown",
   "metadata": {},
   "source": [
    "## Natural slicing using `pandas.IndexSlice`  objects"
   ]
  },
  {
   "cell_type": "code",
   "execution_count": null,
   "metadata": {},
   "outputs": [],
   "source": [
    "idx = pd.IndexSlice\n",
    "df2.loc[idx[:, [\"p1\", \"p2\"]], :]"
   ]
  },
  {
   "cell_type": "markdown",
   "metadata": {},
   "source": [
    "## long and wide formats"
   ]
  },
  {
   "cell_type": "code",
   "execution_count": null,
   "metadata": {},
   "outputs": [],
   "source": [
    "df3 = df2.reset_index()\n",
    "df3"
   ]
  },
  {
   "cell_type": "code",
   "execution_count": null,
   "metadata": {},
   "outputs": [],
   "source": [
    "df4 = df3.melt(\n",
    "    id_vars=['type','probability'],\n",
    "    var_name='r_stage',\n",
    "    value_name='score'\n",
    ")\n",
    "print(df4.shape)\n",
    "df4.head()"
   ]
  },
  {
   "cell_type": "code",
   "execution_count": null,
   "metadata": {},
   "outputs": [],
   "source": [
    "df5 = df4.pivot_table(index=['type', 'probability'], columns='r_stage', values=\"score\")\n",
    "df5 "
   ]
  }
 ],
 "metadata": {
  "celltoolbar": "Slideshow",
  "kernelspec": {
   "display_name": "Python 3",
   "language": "python",
   "name": "python3"
  },
  "language_info": {
   "codemirror_mode": {
    "name": "ipython",
    "version": 3
   },
   "file_extension": ".py",
   "mimetype": "text/x-python",
   "name": "python",
   "nbconvert_exporter": "python",
   "pygments_lexer": "ipython3",
   "version": "3.9.1"
  }
 },
 "nbformat": 4,
 "nbformat_minor": 2
}
