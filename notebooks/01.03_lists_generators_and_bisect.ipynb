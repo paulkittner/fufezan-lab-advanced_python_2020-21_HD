{
 "cells": [
  {
   "cell_type": "code",
   "execution_count": null,
   "id": "interior-mambo",
   "metadata": {
    "slideshow": {
     "slide_type": "slide"
    }
   },
   "outputs": [],
   "source": [
    "import course;course.header()"
   ]
  },
  {
   "cell_type": "markdown",
   "id": "special-vermont",
   "metadata": {
    "slideshow": {
     "slide_type": "slide"
    }
   },
   "source": [
    "## lists and generators"
   ]
  },
  {
   "cell_type": "code",
   "execution_count": null,
   "id": "radio-theme",
   "metadata": {},
   "outputs": [],
   "source": [
    "a = [x for x in range(11)]\n",
    "a"
   ]
  },
  {
   "cell_type": "code",
   "execution_count": null,
   "id": "capital-matter",
   "metadata": {},
   "outputs": [],
   "source": [
    "a = []\n",
    "for x in range(11):\n",
    "    a.append(x)\n",
    "a"
   ]
  },
  {
   "cell_type": "code",
   "execution_count": null,
   "id": "democratic-rotation",
   "metadata": {},
   "outputs": [],
   "source": [
    "a = {x: x**2 for x in range(11)}\n",
    "a"
   ]
  },
  {
   "cell_type": "code",
   "execution_count": null,
   "id": "balanced-damages",
   "metadata": {},
   "outputs": [],
   "source": [
    "(x/10. for x in range(1000))"
   ]
  },
  {
   "cell_type": "code",
   "execution_count": null,
   "id": "frozen-attack",
   "metadata": {},
   "outputs": [],
   "source": [
    "import sys\n",
    "\n",
    "object_1 = [x/10. for x in range(1000)]\n",
    "object_2 = (x/10. for x in range(1000))\n",
    "\n",
    "print(\"\"\"\n",
    "Object 1 allocates {0} bytes\n",
    "Object 2 allocates {1} bytes\n",
    "\"\"\".format(\n",
    "    sys.getsizeof(object_1),\n",
    "    sys.getsizeof(object_2),\n",
    "))\n",
    "\n"
   ]
  },
  {
   "cell_type": "markdown",
   "id": "another-stock",
   "metadata": {
    "slideshow": {
     "slide_type": "slide"
    }
   },
   "source": [
    "quick recap, what's the result of the following lines"
   ]
  },
  {
   "cell_type": "code",
   "execution_count": null,
   "id": "unlike-mileage",
   "metadata": {},
   "outputs": [],
   "source": [
    "a = [1, 2, 5, 7]"
   ]
  },
  {
   "cell_type": "code",
   "execution_count": null,
   "id": "adaptive-marks",
   "metadata": {},
   "outputs": [],
   "source": [
    "a.insert(0, \">>\")\n",
    "a"
   ]
  },
  {
   "cell_type": "code",
   "execution_count": null,
   "id": "informal-mapping",
   "metadata": {},
   "outputs": [],
   "source": [
    "a.pop(0)\n",
    "a"
   ]
  },
  {
   "cell_type": "code",
   "execution_count": null,
   "id": "developmental-couple",
   "metadata": {},
   "outputs": [],
   "source": [
    "for pos, element in enumerate(a):\n",
    "    \n",
    "    print(element, \"pos\", pos, \"index:\", a.index(element))"
   ]
  },
  {
   "cell_type": "markdown",
   "id": "sharing-absence",
   "metadata": {
    "slideshow": {
     "slide_type": "subslide"
    }
   },
   "source": [
    "how to get the position of the element during iteration?"
   ]
  },
  {
   "cell_type": "code",
   "execution_count": null,
   "id": "banner-moderator",
   "metadata": {},
   "outputs": [],
   "source": [
    "a = dict([('King', 1), ('Queen', 2), ('Knight', 'A')])"
   ]
  },
  {
   "cell_type": "code",
   "execution_count": null,
   "id": "checked-sperm",
   "metadata": {},
   "outputs": [],
   "source": [
    "a"
   ]
  },
  {
   "cell_type": "code",
   "execution_count": null,
   "id": "mysterious-measure",
   "metadata": {},
   "outputs": [],
   "source": [
    "for pos, (element, element2) in enumerate(a.items()):\n",
    "    \n",
    "    print(\"At position:\", pos, \"we have:\", element)"
   ]
  },
  {
   "cell_type": "code",
   "execution_count": null,
   "id": "strategic-gates",
   "metadata": {},
   "outputs": [],
   "source": []
  },
  {
   "cell_type": "markdown",
   "id": "little-interstate",
   "metadata": {
    "slideshow": {
     "slide_type": "slide"
    }
   },
   "source": [
    "## bisect module\n",
    "\n",
    "Bisect module allows to find positions in a sorted list into which a given element can be inserted without loosing its sorting.\n",
    "\n",
    "Essential element in binary tree searches and similar techniques.\n",
    "\n",
    "Exists also in numpy!"
   ]
  },
  {
   "cell_type": "code",
   "execution_count": null,
   "id": "expected-reaction",
   "metadata": {},
   "outputs": [],
   "source": [
    "import bisect\n",
    "a = [1, 3, 6, 12, 14, 16]\n",
    "bisect.bisect(a, 4)"
   ]
  },
  {
   "cell_type": "code",
   "execution_count": null,
   "id": "measured-martin",
   "metadata": {},
   "outputs": [],
   "source": [
    "bisect.bisect_right(a, 3)"
   ]
  },
  {
   "cell_type": "code",
   "execution_count": null,
   "id": "irish-publicity",
   "metadata": {},
   "outputs": [],
   "source": [
    "bisect.bisect_left(a, 3)"
   ]
  },
  {
   "cell_type": "code",
   "execution_count": null,
   "id": "sensitive-luxembourg",
   "metadata": {},
   "outputs": [],
   "source": [
    "# also works with more complex lists, as log the elements are comparable\n",
    "a = [(1, \"First\"), (3, \"Third\"), (6, \"too late\")]\n",
    "bisect.bisect(a, (3, \"Really add some more stuff\"))"
   ]
  },
  {
   "cell_type": "markdown",
   "id": "smart-advice",
   "metadata": {},
   "source": [
    "why 1 and not 2 ?"
   ]
  },
  {
   "cell_type": "markdown",
   "id": "sonic-passion",
   "metadata": {},
   "source": [
    "How to to get 2?"
   ]
  },
  {
   "cell_type": "code",
   "execution_count": null,
   "id": "continent-parking",
   "metadata": {},
   "outputs": [],
   "source": []
  },
  {
   "cell_type": "code",
   "execution_count": null,
   "id": "narrative-breakdown",
   "metadata": {},
   "outputs": [],
   "source": []
  }
 ],
 "metadata": {
  "kernelspec": {
   "display_name": "Python 3",
   "language": "python",
   "name": "python3"
  },
  "language_info": {
   "codemirror_mode": {
    "name": "ipython",
    "version": 3
   },
   "file_extension": ".py",
   "mimetype": "text/x-python",
   "name": "python",
   "nbconvert_exporter": "python",
   "pygments_lexer": "ipython3",
   "version": "3.9.1"
  }
 },
 "nbformat": 4,
 "nbformat_minor": 5
}
