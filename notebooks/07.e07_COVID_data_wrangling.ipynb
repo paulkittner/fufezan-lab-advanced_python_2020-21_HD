{
 "cells": [
  {
   "cell_type": "code",
   "execution_count": 1,
   "id": "fatty-phone",
   "metadata": {},
   "outputs": [],
   "source": [
    "# import course;course.header()\n",
    "import pandas as pd\n",
    "from datetime import date\n",
    "import plotly.graph_objects as go\n",
    "import plotly.io as pio\n",
    "from datetime import datetime\n",
    "pio.renderers.default = \"browser\"\n",
    "import numpy as np\n",
    "import plotly.express as px\n",
    "import re\n",
    "import itertools\n",
    "from collections import deque"
   ]
  },
  {
   "cell_type": "code",
   "execution_count": null,
   "id": "domestic-choice",
   "metadata": {},
   "outputs": [],
   "source": [
    "\"hello\""
   ]
  },
  {
   "cell_type": "markdown",
   "id": "smoking-rebecca",
   "metadata": {},
   "source": [
    "# Retrieve COVID data from ECDC "
   ]
  },
  {
   "cell_type": "code",
   "execution_count": 2,
   "id": "oriented-shadow",
   "metadata": {},
   "outputs": [],
   "source": [
    "covid_url = \"https://opendata.ecdc.europa.eu/covid19/casedistribution/json/\"\n",
    "import ssl\n",
    "ssl._create_default_https_context = ssl._create_unverified_context\n",
    "import json\n",
    "import urllib"
   ]
  },
  {
   "cell_type": "code",
   "execution_count": 3,
   "id": "informative-average",
   "metadata": {},
   "outputs": [],
   "source": [
    "covid_json_unformated = urllib.request.urlopen(covid_url).read().decode(\"utf-8\")\n",
    "covid_json = json.loads(covid_json_unformated)\n",
    "cdf = pd.DataFrame(covid_json['records'])"
   ]
  },
  {
   "cell_type": "markdown",
   "id": "angry-labor",
   "metadata": {},
   "source": [
    "Rename columns to something more Pythonian. If you think they look already great, then at least rename `notification_rate_per_100000_population_14-days` to `14d-incidence`"
   ]
  },
  {
   "cell_type": "markdown",
   "id": "intense-prince",
   "metadata": {},
   "source": [
    "Identify which columns have not been casted to an appropriate type during loading!"
   ]
  },
  {
   "cell_type": "markdown",
   "id": "listed-underground",
   "metadata": {},
   "source": [
    "We did not cover datetime objects in pandas, however they are quite powerful!\n",
    "\n",
    "Try:"
   ]
  },
  {
   "cell_type": "code",
   "execution_count": 4,
   "id": "corresponding-spread",
   "metadata": {},
   "outputs": [],
   "source": [
    "cdf['date_reported'] =  pd.to_datetime(cdf['dateRep'])"
   ]
  },
  {
   "cell_type": "markdown",
   "id": "powerful-filter",
   "metadata": {},
   "source": [
    "Now you can treat the column as a datetime objects using `df[col].dt` , e.g. https://docs.python.org/3/library/datetime.html#datetime.date.year"
   ]
  },
  {
   "cell_type": "markdown",
   "id": "southeast-collection",
   "metadata": {},
   "source": [
    "Create a new column `deltaTime_since_start_of_recording`"
   ]
  },
  {
   "cell_type": "markdown",
   "id": "proprietary-silver",
   "metadata": {},
   "source": [
    "Create histograms for different columns or describe the df. Can you spot the inconsistency in the data? Fix it! :)"
   ]
  },
  {
   "cell_type": "markdown",
   "id": "regulated-harmony",
   "metadata": {},
   "source": [
    "Identify those countries (grouped by continent) which showed the most drastic increase most drastic and decrease of the `14d-incidence` within the different years since recording. Visualize intuitively!"
   ]
  },
  {
   "cell_type": "markdown",
   "id": "injured-asset",
   "metadata": {},
   "source": [
    "Which country showed the highest/lowest fluctuation in `14d-incidence` within a year?"
   ]
  },
  {
   "cell_type": "markdown",
   "id": "nervous-seeker",
   "metadata": {},
   "source": [
    "Create a line plot showing the `14-incidence` for all European countries. Use `groupby` operation to generate the data list for the plotly plot. "
   ]
  },
  {
   "cell_type": "markdown",
   "id": "changing-gasoline",
   "metadata": {},
   "source": [
    "Create a smoothed version of the `14d-incidence` by averaging 3 months."
   ]
  },
  {
   "cell_type": "markdown",
   "id": "neural-olive",
   "metadata": {},
   "source": [
    "Create a radial plot of death rate / 100000 people (see popData2019), where one year completes a circle, i.e. 360˚. Visualize the recored years for Italy, Germany, Sweden and Greece. Hint you might need to turn the dateTime into `day within the year` (%j) and adjust 365 to 360 degrees. "
   ]
  },
  {
   "cell_type": "markdown",
   "id": "technical-vaccine",
   "metadata": {},
   "source": [
    "Optional: Find \"regular\" mortality rates for those countries and visualize it in the plot as well."
   ]
  },
  {
   "cell_type": "code",
   "execution_count": 5,
   "id": "significant-marks",
   "metadata": {
    "scrolled": true
   },
   "outputs": [
    {
     "data": {
      "text/html": [
       "<div>\n",
       "<style scoped>\n",
       "    .dataframe tbody tr th:only-of-type {\n",
       "        vertical-align: middle;\n",
       "    }\n",
       "\n",
       "    .dataframe tbody tr th {\n",
       "        vertical-align: top;\n",
       "    }\n",
       "\n",
       "    .dataframe thead th {\n",
       "        text-align: right;\n",
       "    }\n",
       "</style>\n",
       "<table border=\"1\" class=\"dataframe\">\n",
       "  <thead>\n",
       "    <tr style=\"text-align: right;\">\n",
       "      <th></th>\n",
       "      <th>dateRep</th>\n",
       "      <th>year_week</th>\n",
       "      <th>cases_weekly</th>\n",
       "      <th>deaths_weekly</th>\n",
       "      <th>countriesAndTerritories</th>\n",
       "      <th>geoId</th>\n",
       "      <th>countryterritoryCode</th>\n",
       "      <th>popData2019</th>\n",
       "      <th>continentExp</th>\n",
       "      <th>notification_rate_per_100000_population_14-days</th>\n",
       "      <th>date_reported</th>\n",
       "    </tr>\n",
       "  </thead>\n",
       "  <tbody>\n",
       "    <tr>\n",
       "      <th>0</th>\n",
       "      <td>08/02/2021</td>\n",
       "      <td>2021-05</td>\n",
       "      <td>238</td>\n",
       "      <td>8</td>\n",
       "      <td>Afghanistan</td>\n",
       "      <td>AF</td>\n",
       "      <td>AFG</td>\n",
       "      <td>38041757.0</td>\n",
       "      <td>Asia</td>\n",
       "      <td>1.33</td>\n",
       "      <td>2021-08-02</td>\n",
       "    </tr>\n",
       "    <tr>\n",
       "      <th>1</th>\n",
       "      <td>01/02/2021</td>\n",
       "      <td>2021-04</td>\n",
       "      <td>267</td>\n",
       "      <td>16</td>\n",
       "      <td>Afghanistan</td>\n",
       "      <td>AF</td>\n",
       "      <td>AFG</td>\n",
       "      <td>38041757.0</td>\n",
       "      <td>Asia</td>\n",
       "      <td>2.58</td>\n",
       "      <td>2021-01-02</td>\n",
       "    </tr>\n",
       "    <tr>\n",
       "      <th>2</th>\n",
       "      <td>25/01/2021</td>\n",
       "      <td>2021-03</td>\n",
       "      <td>713</td>\n",
       "      <td>43</td>\n",
       "      <td>Afghanistan</td>\n",
       "      <td>AF</td>\n",
       "      <td>AFG</td>\n",
       "      <td>38041757.0</td>\n",
       "      <td>Asia</td>\n",
       "      <td>3.34</td>\n",
       "      <td>2021-01-25</td>\n",
       "    </tr>\n",
       "    <tr>\n",
       "      <th>3</th>\n",
       "      <td>18/01/2021</td>\n",
       "      <td>2021-02</td>\n",
       "      <td>557</td>\n",
       "      <td>45</td>\n",
       "      <td>Afghanistan</td>\n",
       "      <td>AF</td>\n",
       "      <td>AFG</td>\n",
       "      <td>38041757.0</td>\n",
       "      <td>Asia</td>\n",
       "      <td>3.24</td>\n",
       "      <td>2021-01-18</td>\n",
       "    </tr>\n",
       "    <tr>\n",
       "      <th>4</th>\n",
       "      <td>11/01/2021</td>\n",
       "      <td>2021-01</td>\n",
       "      <td>675</td>\n",
       "      <td>71</td>\n",
       "      <td>Afghanistan</td>\n",
       "      <td>AF</td>\n",
       "      <td>AFG</td>\n",
       "      <td>38041757.0</td>\n",
       "      <td>Asia</td>\n",
       "      <td>4.15</td>\n",
       "      <td>2021-11-01</td>\n",
       "    </tr>\n",
       "  </tbody>\n",
       "</table>\n",
       "</div>"
      ],
      "text/plain": [
       "      dateRep year_week  cases_weekly  deaths_weekly countriesAndTerritories  \\\n",
       "0  08/02/2021   2021-05           238              8             Afghanistan   \n",
       "1  01/02/2021   2021-04           267             16             Afghanistan   \n",
       "2  25/01/2021   2021-03           713             43             Afghanistan   \n",
       "3  18/01/2021   2021-02           557             45             Afghanistan   \n",
       "4  11/01/2021   2021-01           675             71             Afghanistan   \n",
       "\n",
       "  geoId countryterritoryCode  popData2019 continentExp  \\\n",
       "0    AF                  AFG   38041757.0         Asia   \n",
       "1    AF                  AFG   38041757.0         Asia   \n",
       "2    AF                  AFG   38041757.0         Asia   \n",
       "3    AF                  AFG   38041757.0         Asia   \n",
       "4    AF                  AFG   38041757.0         Asia   \n",
       "\n",
       "  notification_rate_per_100000_population_14-days date_reported  \n",
       "0                                            1.33    2021-08-02  \n",
       "1                                            2.58    2021-01-02  \n",
       "2                                            3.34    2021-01-25  \n",
       "3                                            3.24    2021-01-18  \n",
       "4                                            4.15    2021-11-01  "
      ]
     },
     "execution_count": 5,
     "metadata": {},
     "output_type": "execute_result"
    }
   ],
   "source": [
    "cdf.head(5)"
   ]
  },
  {
   "cell_type": "code",
   "execution_count": 6,
   "id": "proper-monster",
   "metadata": {},
   "outputs": [],
   "source": [
    "wcdf = cdf.copy()"
   ]
  },
  {
   "cell_type": "code",
   "execution_count": 7,
   "id": "pending-creek",
   "metadata": {},
   "outputs": [],
   "source": [
    "def clean_data(wcdf):\n",
    "    wcdf.rename(columns=\n",
    "            {'notification_rate_per_100000_population_14-days':'14d-incidence',\n",
    "                'countriesAndTerritories': 'region',\n",
    "                'geoId': 'geo_id',\n",
    "                'countryterritoryCode': 'r_code',\n",
    "                'popData2019': 'population',\n",
    "                'continentExp': 'continent'},\n",
    "            inplace=True)\n",
    "\n",
    "    wcdf['date_reported'] =  pd.to_datetime(wcdf['dateRep'], format= '%d/%m/%Y')\n",
    "    wcdf[\"14d-incidence\"] = pd.to_numeric(wcdf[\"14d-incidence\"])\n",
    "\n",
    "    today = date.today()\n",
    "    date_today = today.strftime(\"%m-%d-%Y\")\n",
    "    wcdf[\"time_recordings\"] = (pd.to_datetime(date_today) - wcdf[\"date_reported\"])\n",
    "    \n",
    "    wcdf.dropna(inplace=True)\n",
    "    wcdf = wcdf[wcdf.cases_weekly >= 0]\n",
    "    wcdf = wcdf[wcdf.deaths_weekly >= 0]\n",
    "    wcdf = wcdf[wcdf.population >= 0]\n",
    "    wcdf = wcdf[wcdf[\"14d-incidence\"] >= 0]\n",
    "    \n",
    "    return wcdf"
   ]
  },
  {
   "cell_type": "code",
   "execution_count": 8,
   "id": "north-webcam",
   "metadata": {},
   "outputs": [],
   "source": [
    "wcdf = clean_data(cdf)"
   ]
  },
  {
   "cell_type": "code",
   "execution_count": null,
   "id": "signal-pricing",
   "metadata": {},
   "outputs": [],
   "source": []
  },
  {
   "cell_type": "code",
   "execution_count": 9,
   "id": "smoking-movie",
   "metadata": {},
   "outputs": [],
   "source": [
    "def create_hist(df, column):\n",
    "    data = [\n",
    "        go.Histogram(\n",
    "            x=df[column]\n",
    "        )\n",
    "    ]\n",
    "    fig = go.Figure(data=data)\n",
    "    fig.show()\n",
    "    return"
   ]
  },
  {
   "cell_type": "code",
   "execution_count": 10,
   "id": "ready-continuity",
   "metadata": {},
   "outputs": [],
   "source": [
    "create_hist(wcdf, 'cases_weekly')"
   ]
  },
  {
   "cell_type": "code",
   "execution_count": null,
   "id": "communist-morrison",
   "metadata": {},
   "outputs": [],
   "source": []
  },
  {
   "cell_type": "code",
   "execution_count": 9,
   "id": "persistent-conjunction",
   "metadata": {},
   "outputs": [],
   "source": [
    "def sort_dataframe(dataframe, top_group, minor_group, sorted_col):\n",
    "    sorted_df = dataframe\\\n",
    "        .sort_values([top_group])\\\n",
    "        .groupby([minor_group])\\\n",
    "        .apply(lambda x: x.sort_values([sorted_col], ascending=True))\\\n",
    "        .reset_index(drop=True)\\\n",
    "        .groupby(top_group)\n",
    "    \n",
    "    sorted_dict = {}\n",
    "    \n",
    "    output_sorted_by = list(np.unique(wcdf[top_group]))\n",
    "    \n",
    "    for continent in output_sorted_by:\n",
    "        sorted_dict[continent] = sorted_df.get_group(continent)\n",
    "    \n",
    "    return sorted_dict, output_sorted_by"
   ]
  },
  {
   "cell_type": "code",
   "execution_count": 10,
   "id": "stunning-stock",
   "metadata": {},
   "outputs": [],
   "source": [
    "sort_dataframe, list_sorted_by = sort_dataframe(wcdf, 'continent', 'region', 'time_recordings')"
   ]
  },
  {
   "cell_type": "code",
   "execution_count": 100,
   "id": "hawaiian-pension",
   "metadata": {},
   "outputs": [],
   "source": [
    "def cal_all(sort_dataframe, continent_list):\n",
    "\n",
    "    for pos, continent in enumerate(continent_list):\n",
    "        strongest_increase = []\n",
    "        srongest_decrease = []\n",
    "        flux = []\n",
    "        df = sort_dataframe[continent].reset_index(drop=True)\n",
    "        continent_countries = list(np.unique(df['region']))\n",
    "        for country in continent_countries:\n",
    "            strongest_increase.append(df.groupby('region').get_group(country)['14d-incidence'].diff().max())\n",
    "            srongest_decrease.append(df.groupby('region').get_group(country)['14d-incidence'].diff().min())\n",
    "            flux.append(df.groupby('region').get_group(country)['14d-incidence'].diff().std())\n",
    "\n",
    "        data = {\n",
    "            \"strongest_increase\": strongest_increase,\n",
    "            \"strongest_decrease\": srongest_decrease,\n",
    "            \"flux\": flux,\n",
    "            \"country\": continent_countries,\n",
    "            \"continent\": [continent] * len(continent_countries)\n",
    "        }        \n",
    "        if pos == 0:\n",
    "            comb_df = pd.DataFrame(data)\n",
    "\n",
    "        if pos > 0:\n",
    "            df = pd.DataFrame(data)\n",
    "            comb_df = pd.concat([comb_df, df])\n",
    "    \n",
    "    return comb_df"
   ]
  },
  {
   "cell_type": "code",
   "execution_count": 101,
   "id": "western-collector",
   "metadata": {
    "scrolled": true
   },
   "outputs": [],
   "source": [
    "comb_df = cal_all(sort_dataframe, ['Africa', 'America', 'Asia', 'Europe', 'Oceania'])"
   ]
  },
  {
   "cell_type": "code",
   "execution_count": 116,
   "id": "traditional-posting",
   "metadata": {},
   "outputs": [],
   "source": [
    "def get_strongest_inc_dec_flux(dataframe, continent_list):\n",
    "    \n",
    "    continent_countries = list(dataframe['country'])\n",
    "    for continent in continent_list:\n",
    "        gr_cont = dataframe.groupby(\"continent\").get_group(continent)\n",
    "    \n",
    "        id_inc = gr_cont['strongest_increase'].idxmax()\n",
    "        inc_val = gr_cont['strongest_increase'].iloc[id_inc]\n",
    "        inc_name = gr_cont['country'].iloc[id_inc]\n",
    "\n",
    "        id_dec = gr_cont['strongest_decrease'].idxmin()\n",
    "        dec_val = gr_cont['strongest_decrease'].iloc[id_dec]\n",
    "        dec_name = gr_cont['country'].iloc[id_dec]\n",
    "\n",
    "        id_flux = gr_cont['flux'].idxmax()\n",
    "        flux_val = gr_cont['flux'].iloc[id_flux]\n",
    "        flux_name = gr_cont['country'].iloc[id_flux]\n",
    "    \n",
    "        print(\"The str. increase for \" + str(continent) + \" in the 14d-inc. was by \" + inc_name + \" with an inc of \" + \\\n",
    "         str(round(inc_val,2)))\n",
    "        print(\"The str. decrease for \" + str(continent) + \" in the 14d-inc. was by \" + dec_name + \" with an dec of \" + \\\n",
    "         str(round(-dec_val,2)))\n",
    "        print(\"The str. flux for \" + str(continent) + \" in the 14d-inc. was by \" + flux_name + \" with a STD of \" + \\\n",
    "         str(round(flux_val,2)) + '\\n')    \n",
    "    return\n",
    "    "
   ]
  },
  {
   "cell_type": "code",
   "execution_count": 117,
   "id": "younger-roulette",
   "metadata": {},
   "outputs": [
    {
     "name": "stdout",
     "output_type": "stream",
     "text": [
      "The str. increase for Africa in the 14d-inc. was by Eswatini with an inc of 153.99\n",
      "The str. decrease for Africa in the 14d-inc. was by Seychelles with an dec of 227.13\n",
      "The str. flux for Africa in the 14d-inc. was by Seychelles with a STD of 47.4\n",
      "\n",
      "The str. increase for America in the 14d-inc. was by Belize with an inc of 301.27\n",
      "The str. decrease for America in the 14d-inc. was by Aruba with an dec of 504.18\n",
      "The str. flux for America in the 14d-inc. was by Aruba with a STD of 139.97\n",
      "\n",
      "The str. increase for Asia in the 14d-inc. was by Israel with an inc of 294.99\n",
      "The str. decrease for Asia in the 14d-inc. was by Israel with an dec of 296.37\n",
      "The str. flux for Asia in the 14d-inc. was by Israel with a STD of 100.14\n",
      "\n",
      "The str. increase for Europe in the 14d-inc. was by Holy_See with an inc of 1717.79\n",
      "The str. decrease for Europe in the 14d-inc. was by Holy_See with an dec of 1717.79\n",
      "The str. flux for Europe in the 14d-inc. was by Gibraltar with a STD of 456.32\n",
      "\n",
      "The str. increase for Oceania in the 14d-inc. was by French_Polynesia with an inc of 523.13\n",
      "The str. decrease for Oceania in the 14d-inc. was by French_Polynesia with an dec of 455.45\n",
      "The str. flux for Oceania in the 14d-inc. was by French_Polynesia with a STD of 138.23\n",
      "\n"
     ]
    }
   ],
   "source": [
    "get_strongest_inc_dec_flux(comb_df,  ['Africa', 'America', 'Asia', 'Europe', 'Oceania'])"
   ]
  },
  {
   "cell_type": "code",
   "execution_count": null,
   "id": "irish-mediterranean",
   "metadata": {},
   "outputs": [],
   "source": []
  },
  {
   "cell_type": "code",
   "execution_count": 18,
   "id": "weighted-workstation",
   "metadata": {},
   "outputs": [],
   "source": [
    "def get_continent_df(continent, full_df, year_to_remove):\n",
    "    cont_df = sort_dataframe[continent].reset_index(drop=True)\n",
    "    count_df_yr = cont_df[~cont_df.year_week.str.contains(year_to_remove)].reset_index(drop=True)\n",
    "    \n",
    "    Europe_countries = list(np.unique(count_df_yr['region']))\n",
    "    week_nr = []\n",
    "    week = []\n",
    "\n",
    "    for i in range(1,53):\n",
    "        week_nr.append('week_' + str(i).zfill(2))\n",
    "\n",
    "    for country in Europe_countries:\n",
    "        weeks_in_total = len(count_df_yr.groupby('region').get_group(country)['year_week'])\n",
    "        week.append(week_nr[::-1][:weeks_in_total])\n",
    "\n",
    "    week_number = list(itertools.chain.from_iterable(week))\n",
    "    count_df_yr['week_number'] = week_number\n",
    "\n",
    "    return count_df_yr\n"
   ]
  },
  {
   "cell_type": "code",
   "execution_count": 19,
   "id": "classical-closure",
   "metadata": {},
   "outputs": [],
   "source": [
    "Europe2020 = get_continent_df(\"Europe\", sort_dataframe, \"2021\")"
   ]
  },
  {
   "cell_type": "code",
   "execution_count": null,
   "id": "decent-assist",
   "metadata": {},
   "outputs": [],
   "source": []
  },
  {
   "cell_type": "code",
   "execution_count": 21,
   "id": "nervous-finnish",
   "metadata": {},
   "outputs": [],
   "source": [
    "def plot_linear(dataframe, title, x, y, color):\n",
    "    fig = px.line(dataframe[::-1], y=y, x=x, color=color,\n",
    "                    template=\"plotly_dark\",\n",
    "                     title = title)\n",
    "    fig.show()\n",
    "\n",
    "def plot_circ(dataframe, title, r, theta, color, adj_range):\n",
    "    fig = px.line_polar(dataframe, r=r, theta=theta, color=color, line_close=True,\n",
    "                    color_discrete_sequence=px.colors.sequential.Plasma_r,range_theta=adj_range,\n",
    "                    template=\"plotly_dark\",\n",
    "                        title = title)\n",
    "    fig.show()"
   ]
  },
  {
   "cell_type": "code",
   "execution_count": null,
   "id": "liberal-weekly",
   "metadata": {},
   "outputs": [],
   "source": []
  },
  {
   "cell_type": "code",
   "execution_count": 22,
   "id": "circular-uncertainty",
   "metadata": {},
   "outputs": [],
   "source": [
    "plot_circ(Europe2020,\"14 day incidence in Europe per Week\", \"14d-incidence\",\"week_number\",\"region\", [0,360])"
   ]
  },
  {
   "cell_type": "code",
   "execution_count": 23,
   "id": "rocky-invention",
   "metadata": {},
   "outputs": [],
   "source": [
    "plot_linear(Europe2020,\"14 day incidence in Europe per Week\", \"week_number\", \"14d-incidence\", \"region\")"
   ]
  },
  {
   "cell_type": "code",
   "execution_count": null,
   "id": "rotary-maria",
   "metadata": {},
   "outputs": [],
   "source": []
  },
  {
   "cell_type": "code",
   "execution_count": 24,
   "id": "median-darkness",
   "metadata": {},
   "outputs": [],
   "source": [
    "def smoothend_incidence(continent_df, window_length_days):\n",
    "\n",
    "    avg_indc = []\n",
    "    continent_countries = list(np.unique(continent_df['region']))\n",
    "    \n",
    "    for country in continent_countries:\n",
    "        window_entries = deque([], window_length_days)\n",
    "        df = continent_df[['region', 'week_number', '14d-incidence']].groupby('region').get_group(country).reset_index(drop=True)\n",
    "        for incidence in df['14d-incidence']:\n",
    "            window_entries.append(incidence)\n",
    "            avg_indc.append(sum(window_entries) /len(window_entries))\n",
    "\n",
    "    continent_df['avg_incidence'] = avg_indc\n",
    "    return continent_df"
   ]
  },
  {
   "cell_type": "code",
   "execution_count": 25,
   "id": "written-group",
   "metadata": {},
   "outputs": [],
   "source": [
    "Europe2020_3 = smoothend_incidence(Europe2020, 3)"
   ]
  },
  {
   "cell_type": "code",
   "execution_count": 26,
   "id": "occupied-episode",
   "metadata": {},
   "outputs": [],
   "source": [
    "plot_linear(Europe2020_3,\"smoothend incidence rate over 3 weeks\", \"week_number\", \"avg_incidence\", \"region\")"
   ]
  },
  {
   "cell_type": "code",
   "execution_count": null,
   "id": "heated-hungarian",
   "metadata": {},
   "outputs": [],
   "source": []
  },
  {
   "cell_type": "code",
   "execution_count": 27,
   "id": "horizontal-explosion",
   "metadata": {},
   "outputs": [],
   "source": [
    "def get_death_rate_per_inh(dataframe, list_of_countries, nr_people):\n",
    "    for pos, country in enumerate(list_of_countries):\n",
    "        week_nr = []\n",
    "        week_nr.append(dataframe.groupby('region').get_group(country)['week_number'])\n",
    "        Europe_countries = list((dataframe.groupby('region').get_group(country)['region']))\n",
    "        divisionResults = dataframe.groupby('region').get_group(country)['deaths_weekly']\\\n",
    "            .div(dataframe.groupby('region').get_group(country)['population']).reset_index(drop=True)\n",
    "        divisionResults = divisionResults * nr_people\n",
    "\n",
    "        week_number = list(itertools.chain.from_iterable(week_nr))\n",
    "\n",
    "        data = {\n",
    "            'region' : Europe_countries,\n",
    "            'week_number' : week_number[::-1],\n",
    "            'death_rate' : divisionResults [::-1]\n",
    "        }\n",
    "        if pos == 0:\n",
    "            death_rate_df = pd.DataFrame(data)\n",
    "\n",
    "        if pos > 0:\n",
    "            df = pd.DataFrame(data)\n",
    "            death_rate_df = pd.concat([death_rate_df, df])\n",
    "        \n",
    "    return death_rate_df"
   ]
  },
  {
   "cell_type": "code",
   "execution_count": 28,
   "id": "adult-quantum",
   "metadata": {},
   "outputs": [],
   "source": [
    "death_rate = get_death_rate_per_inh(Europe2020 ,['Italy', 'Germany', 'Sweden', 'Greece', 'Spain'],100000)"
   ]
  },
  {
   "cell_type": "code",
   "execution_count": 29,
   "id": "smaller-baghdad",
   "metadata": {},
   "outputs": [],
   "source": [
    "plot_circ(death_rate,\"deathrate in countries in Europe per Week\", \"death_rate\",\"week_number\",\"region\", [0,360])"
   ]
  },
  {
   "cell_type": "code",
   "execution_count": null,
   "id": "aboriginal-payment",
   "metadata": {},
   "outputs": [],
   "source": []
  },
  {
   "cell_type": "code",
   "execution_count": 30,
   "id": "exotic-chicago",
   "metadata": {},
   "outputs": [],
   "source": [
    "def comp_deathrate_germany(filename, death_rate_df, continent_df):\n",
    "    with open(filename, 'r') as file:\n",
    "        file_dict = pd.read_csv(file)\n",
    "        sorted_deaths_per_week = file_dict['Value'].to_list()[::3]\n",
    "        sorted_deaths_per_week.pop()\n",
    "        sorted_deaths_per_week = [w.replace(',', '') for w in sorted_deaths_per_week]\n",
    "        \n",
    "        cov_death_rate_germany = death_rate_df.groupby('region').get_group('Germany').reset_index(drop=True)\n",
    "        names = ['covid_deaths_germany'] * 52\n",
    "        cov_death_rate_germany['region'] = names\n",
    "        \n",
    "        nor_deaths = continent_df[['region', 'week_number', 'population']].groupby('region').get_group('Germany').reset_index(drop=True)\n",
    "        nor_deaths['deaths'] = sorted_deaths_per_week[::-1]\n",
    "        nor_deaths['deaths'] =  pd.to_numeric(nor_deaths[\"deaths\"])\n",
    "        divisionResults = nor_deaths['deaths'].div(nor_deaths['population']).reset_index(drop=True)\n",
    "        divisionResults = round(divisionResults * 100000, 1).to_list()\n",
    "        nor_deaths['death_rate'] = divisionResults\n",
    "        \n",
    "        comp_death_rate = pd.concat([cov_death_rate_germany, nor_deaths[::-1]])\n",
    "        \n",
    "        return comp_death_rate[::-1] "
   ]
  },
  {
   "cell_type": "code",
   "execution_count": 31,
   "id": "informal-leone",
   "metadata": {},
   "outputs": [],
   "source": [
    "comp_death_rate = comp_deathrate_germany('demo_r_mwk_ts_1_Data.csv', death_rate, Europe2020)"
   ]
  },
  {
   "cell_type": "code",
   "execution_count": 32,
   "id": "genuine-translator",
   "metadata": {},
   "outputs": [],
   "source": [
    "plot_linear(comp_death_rate,\"death rate comparison in Germany no normal death count 2020\", \"week_number\", \"death_rate\", \"region\")"
   ]
  },
  {
   "cell_type": "code",
   "execution_count": null,
   "id": "seventh-strike",
   "metadata": {},
   "outputs": [],
   "source": []
  },
  {
   "cell_type": "code",
   "execution_count": null,
   "id": "equal-toddler",
   "metadata": {},
   "outputs": [],
   "source": []
  },
  {
   "cell_type": "code",
   "execution_count": null,
   "id": "thick-round",
   "metadata": {},
   "outputs": [],
   "source": []
  },
  {
   "cell_type": "code",
   "execution_count": null,
   "id": "enabling-trauma",
   "metadata": {},
   "outputs": [],
   "source": []
  },
  {
   "cell_type": "code",
   "execution_count": null,
   "id": "controlled-institute",
   "metadata": {},
   "outputs": [],
   "source": []
  },
  {
   "cell_type": "code",
   "execution_count": null,
   "id": "alpha-initial",
   "metadata": {},
   "outputs": [],
   "source": []
  }
 ],
 "metadata": {
  "kernelspec": {
   "display_name": "Python 3",
   "language": "python",
   "name": "python3"
  },
  "language_info": {
   "codemirror_mode": {
    "name": "ipython",
    "version": 3
   },
   "file_extension": ".py",
   "mimetype": "text/x-python",
   "name": "python",
   "nbconvert_exporter": "python",
   "pygments_lexer": "ipython3",
   "version": "3.9.1"
  },
  "pycharm": {
   "stem_cell": {
    "cell_type": "raw",
    "metadata": {
     "collapsed": false
    },
    "source": []
   }
  }
 },
 "nbformat": 4,
 "nbformat_minor": 5
}
